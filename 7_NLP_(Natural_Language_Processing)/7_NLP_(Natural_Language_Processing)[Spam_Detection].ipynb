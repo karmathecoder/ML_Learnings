{
 "cells": [
  {
   "cell_type": "markdown",
   "id": "1608a00a",
   "metadata": {},
   "source": [
    "## Importing Liabraies"
   ]
  },
  {
   "cell_type": "code",
   "execution_count": 136,
   "id": "9c43e87a",
   "metadata": {},
   "outputs": [],
   "source": [
    "import pandas as pd\n",
    "import numpy as np\n",
    "import nltk"
   ]
  },
  {
   "cell_type": "markdown",
   "id": "e68dfc59",
   "metadata": {},
   "source": [
    "## Loading Data"
   ]
  },
  {
   "cell_type": "code",
   "execution_count": 137,
   "id": "1e881534",
   "metadata": {},
   "outputs": [],
   "source": [
    "data = pd.read_csv('spam.csv',encoding = 'latin')"
   ]
  },
  {
   "cell_type": "code",
   "execution_count": 138,
   "id": "36c3084e",
   "metadata": {},
   "outputs": [
    {
     "data": {
      "text/html": [
       "<div>\n",
       "<style scoped>\n",
       "    .dataframe tbody tr th:only-of-type {\n",
       "        vertical-align: middle;\n",
       "    }\n",
       "\n",
       "    .dataframe tbody tr th {\n",
       "        vertical-align: top;\n",
       "    }\n",
       "\n",
       "    .dataframe thead th {\n",
       "        text-align: right;\n",
       "    }\n",
       "</style>\n",
       "<table border=\"1\" class=\"dataframe\">\n",
       "  <thead>\n",
       "    <tr style=\"text-align: right;\">\n",
       "      <th></th>\n",
       "      <th>v1</th>\n",
       "      <th>v2</th>\n",
       "      <th>Unnamed: 2</th>\n",
       "      <th>Unnamed: 3</th>\n",
       "      <th>Unnamed: 4</th>\n",
       "    </tr>\n",
       "  </thead>\n",
       "  <tbody>\n",
       "    <tr>\n",
       "      <th>0</th>\n",
       "      <td>ham</td>\n",
       "      <td>Go until jurong point, crazy.. Available only ...</td>\n",
       "      <td>NaN</td>\n",
       "      <td>NaN</td>\n",
       "      <td>NaN</td>\n",
       "    </tr>\n",
       "    <tr>\n",
       "      <th>1</th>\n",
       "      <td>ham</td>\n",
       "      <td>Ok lar... Joking wif u oni...</td>\n",
       "      <td>NaN</td>\n",
       "      <td>NaN</td>\n",
       "      <td>NaN</td>\n",
       "    </tr>\n",
       "    <tr>\n",
       "      <th>2</th>\n",
       "      <td>spam</td>\n",
       "      <td>Free entry in 2 a wkly comp to win FA Cup fina...</td>\n",
       "      <td>NaN</td>\n",
       "      <td>NaN</td>\n",
       "      <td>NaN</td>\n",
       "    </tr>\n",
       "    <tr>\n",
       "      <th>3</th>\n",
       "      <td>ham</td>\n",
       "      <td>U dun say so early hor... U c already then say...</td>\n",
       "      <td>NaN</td>\n",
       "      <td>NaN</td>\n",
       "      <td>NaN</td>\n",
       "    </tr>\n",
       "    <tr>\n",
       "      <th>4</th>\n",
       "      <td>ham</td>\n",
       "      <td>Nah I don't think he goes to usf, he lives aro...</td>\n",
       "      <td>NaN</td>\n",
       "      <td>NaN</td>\n",
       "      <td>NaN</td>\n",
       "    </tr>\n",
       "  </tbody>\n",
       "</table>\n",
       "</div>"
      ],
      "text/plain": [
       "     v1                                                 v2 Unnamed: 2  \\\n",
       "0   ham  Go until jurong point, crazy.. Available only ...        NaN   \n",
       "1   ham                      Ok lar... Joking wif u oni...        NaN   \n",
       "2  spam  Free entry in 2 a wkly comp to win FA Cup fina...        NaN   \n",
       "3   ham  U dun say so early hor... U c already then say...        NaN   \n",
       "4   ham  Nah I don't think he goes to usf, he lives aro...        NaN   \n",
       "\n",
       "  Unnamed: 3 Unnamed: 4  \n",
       "0        NaN        NaN  \n",
       "1        NaN        NaN  \n",
       "2        NaN        NaN  \n",
       "3        NaN        NaN  \n",
       "4        NaN        NaN  "
      ]
     },
     "execution_count": 138,
     "metadata": {},
     "output_type": "execute_result"
    }
   ],
   "source": [
    "data.head()"
   ]
  },
  {
   "cell_type": "markdown",
   "id": "7b63e3ff",
   "metadata": {},
   "source": [
    "<font color = 'red'> Dropping these unamed columns\n",
    "   "
   ]
  },
  {
   "cell_type": "code",
   "execution_count": 139,
   "id": "dccd2294",
   "metadata": {},
   "outputs": [
    {
     "data": {
      "text/html": [
       "<div>\n",
       "<style scoped>\n",
       "    .dataframe tbody tr th:only-of-type {\n",
       "        vertical-align: middle;\n",
       "    }\n",
       "\n",
       "    .dataframe tbody tr th {\n",
       "        vertical-align: top;\n",
       "    }\n",
       "\n",
       "    .dataframe thead th {\n",
       "        text-align: right;\n",
       "    }\n",
       "</style>\n",
       "<table border=\"1\" class=\"dataframe\">\n",
       "  <thead>\n",
       "    <tr style=\"text-align: right;\">\n",
       "      <th></th>\n",
       "      <th>v1</th>\n",
       "      <th>v2</th>\n",
       "    </tr>\n",
       "  </thead>\n",
       "  <tbody>\n",
       "    <tr>\n",
       "      <th>0</th>\n",
       "      <td>ham</td>\n",
       "      <td>Go until jurong point, crazy.. Available only ...</td>\n",
       "    </tr>\n",
       "    <tr>\n",
       "      <th>1</th>\n",
       "      <td>ham</td>\n",
       "      <td>Ok lar... Joking wif u oni...</td>\n",
       "    </tr>\n",
       "    <tr>\n",
       "      <th>2</th>\n",
       "      <td>spam</td>\n",
       "      <td>Free entry in 2 a wkly comp to win FA Cup fina...</td>\n",
       "    </tr>\n",
       "    <tr>\n",
       "      <th>3</th>\n",
       "      <td>ham</td>\n",
       "      <td>U dun say so early hor... U c already then say...</td>\n",
       "    </tr>\n",
       "    <tr>\n",
       "      <th>4</th>\n",
       "      <td>ham</td>\n",
       "      <td>Nah I don't think he goes to usf, he lives aro...</td>\n",
       "    </tr>\n",
       "  </tbody>\n",
       "</table>\n",
       "</div>"
      ],
      "text/plain": [
       "     v1                                                 v2\n",
       "0   ham  Go until jurong point, crazy.. Available only ...\n",
       "1   ham                      Ok lar... Joking wif u oni...\n",
       "2  spam  Free entry in 2 a wkly comp to win FA Cup fina...\n",
       "3   ham  U dun say so early hor... U c already then say...\n",
       "4   ham  Nah I don't think he goes to usf, he lives aro..."
      ]
     },
     "execution_count": 139,
     "metadata": {},
     "output_type": "execute_result"
    }
   ],
   "source": [
    "data = data.drop(['Unnamed: 2','Unnamed: 3','Unnamed: 4'],axis = 1)\n",
    "data.head()"
   ]
  },
  {
   "cell_type": "markdown",
   "id": "35c9888b",
   "metadata": {},
   "source": [
    "<font color = 'red'> For Good unerstanding Changing Labels"
   ]
  },
  {
   "cell_type": "code",
   "execution_count": 140,
   "id": "38c77368",
   "metadata": {},
   "outputs": [
    {
     "data": {
      "text/html": [
       "<div>\n",
       "<style scoped>\n",
       "    .dataframe tbody tr th:only-of-type {\n",
       "        vertical-align: middle;\n",
       "    }\n",
       "\n",
       "    .dataframe tbody tr th {\n",
       "        vertical-align: top;\n",
       "    }\n",
       "\n",
       "    .dataframe thead th {\n",
       "        text-align: right;\n",
       "    }\n",
       "</style>\n",
       "<table border=\"1\" class=\"dataframe\">\n",
       "  <thead>\n",
       "    <tr style=\"text-align: right;\">\n",
       "      <th></th>\n",
       "      <th>Label</th>\n",
       "      <th>Messege</th>\n",
       "    </tr>\n",
       "  </thead>\n",
       "  <tbody>\n",
       "    <tr>\n",
       "      <th>0</th>\n",
       "      <td>ham</td>\n",
       "      <td>Go until jurong point, crazy.. Available only ...</td>\n",
       "    </tr>\n",
       "    <tr>\n",
       "      <th>1</th>\n",
       "      <td>ham</td>\n",
       "      <td>Ok lar... Joking wif u oni...</td>\n",
       "    </tr>\n",
       "    <tr>\n",
       "      <th>2</th>\n",
       "      <td>spam</td>\n",
       "      <td>Free entry in 2 a wkly comp to win FA Cup fina...</td>\n",
       "    </tr>\n",
       "    <tr>\n",
       "      <th>3</th>\n",
       "      <td>ham</td>\n",
       "      <td>U dun say so early hor... U c already then say...</td>\n",
       "    </tr>\n",
       "    <tr>\n",
       "      <th>4</th>\n",
       "      <td>ham</td>\n",
       "      <td>Nah I don't think he goes to usf, he lives aro...</td>\n",
       "    </tr>\n",
       "  </tbody>\n",
       "</table>\n",
       "</div>"
      ],
      "text/plain": [
       "  Label                                            Messege\n",
       "0   ham  Go until jurong point, crazy.. Available only ...\n",
       "1   ham                      Ok lar... Joking wif u oni...\n",
       "2  spam  Free entry in 2 a wkly comp to win FA Cup fina...\n",
       "3   ham  U dun say so early hor... U c already then say...\n",
       "4   ham  Nah I don't think he goes to usf, he lives aro..."
      ]
     },
     "execution_count": 140,
     "metadata": {},
     "output_type": "execute_result"
    }
   ],
   "source": [
    "data.rename(columns = {'v1':'Label',\n",
    "                     'v2':'Messege'},\n",
    "         inplace = True)\n",
    "\n",
    "data.head()"
   ]
  },
  {
   "cell_type": "markdown",
   "id": "44c16f38",
   "metadata": {},
   "source": [
    "<font color = 'red'> Changing the Value of 'Label' column to 0,1<br>\n",
    "    \n",
    "not doing manually because then it will become priority"
   ]
  },
  {
   "cell_type": "markdown",
   "id": "0efcabf1",
   "metadata": {},
   "source": [
    "## Handeling Categorical Data"
   ]
  },
  {
   "cell_type": "code",
   "execution_count": 141,
   "id": "ad2ee9d3",
   "metadata": {},
   "outputs": [
    {
     "data": {
      "text/html": [
       "<div>\n",
       "<style scoped>\n",
       "    .dataframe tbody tr th:only-of-type {\n",
       "        vertical-align: middle;\n",
       "    }\n",
       "\n",
       "    .dataframe tbody tr th {\n",
       "        vertical-align: top;\n",
       "    }\n",
       "\n",
       "    .dataframe thead th {\n",
       "        text-align: right;\n",
       "    }\n",
       "</style>\n",
       "<table border=\"1\" class=\"dataframe\">\n",
       "  <thead>\n",
       "    <tr style=\"text-align: right;\">\n",
       "      <th></th>\n",
       "      <th>Messege</th>\n",
       "      <th>Label_ham</th>\n",
       "      <th>Label_spam</th>\n",
       "    </tr>\n",
       "  </thead>\n",
       "  <tbody>\n",
       "    <tr>\n",
       "      <th>0</th>\n",
       "      <td>Go until jurong point, crazy.. Available only ...</td>\n",
       "      <td>1</td>\n",
       "      <td>0</td>\n",
       "    </tr>\n",
       "    <tr>\n",
       "      <th>1</th>\n",
       "      <td>Ok lar... Joking wif u oni...</td>\n",
       "      <td>1</td>\n",
       "      <td>0</td>\n",
       "    </tr>\n",
       "    <tr>\n",
       "      <th>2</th>\n",
       "      <td>Free entry in 2 a wkly comp to win FA Cup fina...</td>\n",
       "      <td>0</td>\n",
       "      <td>1</td>\n",
       "    </tr>\n",
       "    <tr>\n",
       "      <th>3</th>\n",
       "      <td>U dun say so early hor... U c already then say...</td>\n",
       "      <td>1</td>\n",
       "      <td>0</td>\n",
       "    </tr>\n",
       "    <tr>\n",
       "      <th>4</th>\n",
       "      <td>Nah I don't think he goes to usf, he lives aro...</td>\n",
       "      <td>1</td>\n",
       "      <td>0</td>\n",
       "    </tr>\n",
       "  </tbody>\n",
       "</table>\n",
       "</div>"
      ],
      "text/plain": [
       "                                             Messege  Label_ham  Label_spam\n",
       "0  Go until jurong point, crazy.. Available only ...          1           0\n",
       "1                      Ok lar... Joking wif u oni...          1           0\n",
       "2  Free entry in 2 a wkly comp to win FA Cup fina...          0           1\n",
       "3  U dun say so early hor... U c already then say...          1           0\n",
       "4  Nah I don't think he goes to usf, he lives aro...          1           0"
      ]
     },
     "execution_count": 141,
     "metadata": {},
     "output_type": "execute_result"
    }
   ],
   "source": [
    "data = pd.get_dummies(data,columns=['Label'])\n",
    "\n",
    "data.head()"
   ]
  },
  {
   "cell_type": "code",
   "execution_count": 142,
   "id": "1d39b190",
   "metadata": {},
   "outputs": [
    {
     "data": {
      "text/plain": [
       "1    4825\n",
       "0     747\n",
       "Name: Label_ham, dtype: int64"
      ]
     },
     "execution_count": 142,
     "metadata": {},
     "output_type": "execute_result"
    }
   ],
   "source": [
    "#Checking Ham and Spam distribution\n",
    "\n",
    "data['Label_ham'].value_counts()"
   ]
  },
  {
   "cell_type": "code",
   "execution_count": 143,
   "id": "dad98aeb",
   "metadata": {},
   "outputs": [
    {
     "name": "stdout",
     "output_type": "stream",
     "text": [
      "<class 'pandas.core.frame.DataFrame'>\n",
      "RangeIndex: 5572 entries, 0 to 5571\n",
      "Data columns (total 3 columns):\n",
      " #   Column      Non-Null Count  Dtype \n",
      "---  ------      --------------  ----- \n",
      " 0   Messege     5572 non-null   object\n",
      " 1   Label_ham   5572 non-null   uint8 \n",
      " 2   Label_spam  5572 non-null   uint8 \n",
      "dtypes: object(1), uint8(2)\n",
      "memory usage: 54.5+ KB\n"
     ]
    }
   ],
   "source": [
    "data.info()"
   ]
  },
  {
   "cell_type": "markdown",
   "id": "bcb4df85",
   "metadata": {},
   "source": [
    "#### Total length of msg in our data"
   ]
  },
  {
   "cell_type": "code",
   "execution_count": 144,
   "id": "50477f29",
   "metadata": {},
   "outputs": [
    {
     "data": {
      "text/html": [
       "<div>\n",
       "<style scoped>\n",
       "    .dataframe tbody tr th:only-of-type {\n",
       "        vertical-align: middle;\n",
       "    }\n",
       "\n",
       "    .dataframe tbody tr th {\n",
       "        vertical-align: top;\n",
       "    }\n",
       "\n",
       "    .dataframe thead th {\n",
       "        text-align: right;\n",
       "    }\n",
       "</style>\n",
       "<table border=\"1\" class=\"dataframe\">\n",
       "  <thead>\n",
       "    <tr style=\"text-align: right;\">\n",
       "      <th></th>\n",
       "      <th>Messege</th>\n",
       "      <th>Label_ham</th>\n",
       "      <th>Label_spam</th>\n",
       "      <th>count</th>\n",
       "    </tr>\n",
       "  </thead>\n",
       "  <tbody>\n",
       "    <tr>\n",
       "      <th>0</th>\n",
       "      <td>Go until jurong point, crazy.. Available only ...</td>\n",
       "      <td>1</td>\n",
       "      <td>0</td>\n",
       "      <td>111</td>\n",
       "    </tr>\n",
       "    <tr>\n",
       "      <th>1</th>\n",
       "      <td>Ok lar... Joking wif u oni...</td>\n",
       "      <td>1</td>\n",
       "      <td>0</td>\n",
       "      <td>29</td>\n",
       "    </tr>\n",
       "    <tr>\n",
       "      <th>2</th>\n",
       "      <td>Free entry in 2 a wkly comp to win FA Cup fina...</td>\n",
       "      <td>0</td>\n",
       "      <td>1</td>\n",
       "      <td>155</td>\n",
       "    </tr>\n",
       "    <tr>\n",
       "      <th>3</th>\n",
       "      <td>U dun say so early hor... U c already then say...</td>\n",
       "      <td>1</td>\n",
       "      <td>0</td>\n",
       "      <td>49</td>\n",
       "    </tr>\n",
       "    <tr>\n",
       "      <th>4</th>\n",
       "      <td>Nah I don't think he goes to usf, he lives aro...</td>\n",
       "      <td>1</td>\n",
       "      <td>0</td>\n",
       "      <td>61</td>\n",
       "    </tr>\n",
       "  </tbody>\n",
       "</table>\n",
       "</div>"
      ],
      "text/plain": [
       "                                             Messege  Label_ham  Label_spam  \\\n",
       "0  Go until jurong point, crazy.. Available only ...          1           0   \n",
       "1                      Ok lar... Joking wif u oni...          1           0   \n",
       "2  Free entry in 2 a wkly comp to win FA Cup fina...          0           1   \n",
       "3  U dun say so early hor... U c already then say...          1           0   \n",
       "4  Nah I don't think he goes to usf, he lives aro...          1           0   \n",
       "\n",
       "   count  \n",
       "0    111  \n",
       "1     29  \n",
       "2    155  \n",
       "3     49  \n",
       "4     61  "
      ]
     },
     "execution_count": 144,
     "metadata": {},
     "output_type": "execute_result"
    }
   ],
   "source": [
    "data['count'] = 0\n",
    "\n",
    "for i in np.arange(0,len(data['Messege'])):\n",
    "    data.loc[i,'count'] = len(data.loc[i,'Messege'])\n",
    "    \n",
    "    \n",
    "data.head()"
   ]
  },
  {
   "cell_type": "code",
   "execution_count": 145,
   "id": "0cf5a0a7",
   "metadata": {},
   "outputs": [
    {
     "data": {
      "text/html": [
       "<div>\n",
       "<style scoped>\n",
       "    .dataframe tbody tr th:only-of-type {\n",
       "        vertical-align: middle;\n",
       "    }\n",
       "\n",
       "    .dataframe tbody tr th {\n",
       "        vertical-align: top;\n",
       "    }\n",
       "\n",
       "    .dataframe thead th {\n",
       "        text-align: right;\n",
       "    }\n",
       "</style>\n",
       "<table border=\"1\" class=\"dataframe\">\n",
       "  <thead>\n",
       "    <tr style=\"text-align: right;\">\n",
       "      <th></th>\n",
       "      <th>Label_ham</th>\n",
       "      <th>Label_spam</th>\n",
       "      <th>count</th>\n",
       "    </tr>\n",
       "  </thead>\n",
       "  <tbody>\n",
       "    <tr>\n",
       "      <th>count</th>\n",
       "      <td>5572.000000</td>\n",
       "      <td>5572.000000</td>\n",
       "      <td>5572.000000</td>\n",
       "    </tr>\n",
       "    <tr>\n",
       "      <th>mean</th>\n",
       "      <td>0.865937</td>\n",
       "      <td>0.134063</td>\n",
       "      <td>80.118808</td>\n",
       "    </tr>\n",
       "    <tr>\n",
       "      <th>std</th>\n",
       "      <td>0.340751</td>\n",
       "      <td>0.340751</td>\n",
       "      <td>59.690841</td>\n",
       "    </tr>\n",
       "    <tr>\n",
       "      <th>min</th>\n",
       "      <td>0.000000</td>\n",
       "      <td>0.000000</td>\n",
       "      <td>2.000000</td>\n",
       "    </tr>\n",
       "    <tr>\n",
       "      <th>25%</th>\n",
       "      <td>1.000000</td>\n",
       "      <td>0.000000</td>\n",
       "      <td>36.000000</td>\n",
       "    </tr>\n",
       "    <tr>\n",
       "      <th>50%</th>\n",
       "      <td>1.000000</td>\n",
       "      <td>0.000000</td>\n",
       "      <td>61.000000</td>\n",
       "    </tr>\n",
       "    <tr>\n",
       "      <th>75%</th>\n",
       "      <td>1.000000</td>\n",
       "      <td>0.000000</td>\n",
       "      <td>121.000000</td>\n",
       "    </tr>\n",
       "    <tr>\n",
       "      <th>max</th>\n",
       "      <td>1.000000</td>\n",
       "      <td>1.000000</td>\n",
       "      <td>910.000000</td>\n",
       "    </tr>\n",
       "  </tbody>\n",
       "</table>\n",
       "</div>"
      ],
      "text/plain": [
       "         Label_ham   Label_spam        count\n",
       "count  5572.000000  5572.000000  5572.000000\n",
       "mean      0.865937     0.134063    80.118808\n",
       "std       0.340751     0.340751    59.690841\n",
       "min       0.000000     0.000000     2.000000\n",
       "25%       1.000000     0.000000    36.000000\n",
       "50%       1.000000     0.000000    61.000000\n",
       "75%       1.000000     0.000000   121.000000\n",
       "max       1.000000     1.000000   910.000000"
      ]
     },
     "execution_count": 145,
     "metadata": {},
     "output_type": "execute_result"
    }
   ],
   "source": [
    "data.describe()"
   ]
  },
  {
   "cell_type": "markdown",
   "id": "d12d89ee",
   "metadata": {},
   "source": [
    "<font color = 'red'> Messege column is not showing because it is having text data not numeric data"
   ]
  },
  {
   "cell_type": "markdown",
   "id": "1a299e89",
   "metadata": {},
   "source": [
    "# <font color = 'green'> Processing Messege (S-2)"
   ]
  },
  {
   "cell_type": "markdown",
   "id": "f82a44b6",
   "metadata": {},
   "source": [
    "<font color = 'blue'> Will use NLP to Process Messege column to pass in the ML model"
   ]
  },
  {
   "cell_type": "code",
   "execution_count": 146,
   "id": "5aff5270",
   "metadata": {},
   "outputs": [
    {
     "name": "stdout",
     "output_type": "stream",
     "text": [
      "Go until jurong point, crazy.. Available only in bugis n great world la e buffet... Cine there got amore wat...\n",
      "\n",
      "Ok lar... Joking wif u oni...\n"
     ]
    }
   ],
   "source": [
    "# Viewing first-2 Orignal Messeges\n",
    "\n",
    "print(data['Messege'][0],)\n",
    "print()\n",
    "print(data['Messege'][1])"
   ]
  },
  {
   "cell_type": "code",
   "execution_count": 147,
   "id": "dca629ae",
   "metadata": {},
   "outputs": [
    {
     "data": {
      "text/plain": [
       "0       Go until jurong point, crazy.. Available only ...\n",
       "1                           Ok lar... Joking wif u oni...\n",
       "2       Free entry in 2 a wkly comp to win FA Cup fina...\n",
       "3       U dun say so early hor... U c already then say...\n",
       "4       Nah I don't think he goes to usf, he lives aro...\n",
       "                              ...                        \n",
       "5567    This is the 2nd time we have tried 2 contact u...\n",
       "5568                Will Ì_ b going to esplanade fr home?\n",
       "5569    Pity, * was in mood for that. So...any other s...\n",
       "5570    The guy did some bitching but I acted like i'd...\n",
       "5571                           Rofl. Its true to its name\n",
       "Name: Messege, Length: 5572, dtype: object"
      ]
     },
     "execution_count": 147,
     "metadata": {},
     "output_type": "execute_result"
    }
   ],
   "source": [
    "data['Messege']"
   ]
  },
  {
   "cell_type": "markdown",
   "id": "b96932e6",
   "metadata": {},
   "source": [
    "## Preparing WordVector Corpus"
   ]
  },
  {
   "cell_type": "code",
   "execution_count": 148,
   "id": "752e1791",
   "metadata": {},
   "outputs": [],
   "source": [
    "corpus = []"
   ]
  },
  {
   "cell_type": "markdown",
   "id": "f80dc9fe",
   "metadata": {},
   "source": [
    "## Using Porter Stemmer"
   ]
  },
  {
   "cell_type": "code",
   "execution_count": 149,
   "id": "faf1401e",
   "metadata": {},
   "outputs": [],
   "source": [
    "from nltk.stem.porter import PorterStemmer\n",
    "ps = PorterStemmer()"
   ]
  },
  {
   "cell_type": "code",
   "execution_count": 150,
   "id": "4da49f94",
   "metadata": {},
   "outputs": [],
   "source": [
    "from nltk.corpus import stopwords\n",
    "from sklearn.feature_extraction.text import CountVectorizer\n",
    "\n",
    "#importing Regular Expression\n",
    "import re"
   ]
  },
  {
   "cell_type": "code",
   "execution_count": 151,
   "id": "43c30bd8",
   "metadata": {},
   "outputs": [
    {
     "name": "stdout",
     "output_type": "stream",
     "text": [
      "\t\t\t\t\t\t\t\t\\ Messege 0\n",
      "\n",
      "Regular Expression 0 : Go until jurong point  crazy   Available only in bugis n great world la e buffet    Cine there got amore wat   \n",
      "\n",
      "After Lowering :  go until jurong point  crazy   available only in bugis n great world la e buffet    cine there got amore wat   \n",
      "\n",
      "After Splitting :  ['go', 'until', 'jurong', 'point', 'crazy', 'available', 'only', 'in', 'bugis', 'n', 'great', 'world', 'la', 'e', 'buffet', 'cine', 'there', 'got', 'amore', 'wat']\n",
      "\n",
      "After steming and stopword removal :  ['go', 'jurong', 'point', 'crazi', 'avail', 'bugi', 'n', 'great', 'world', 'la', 'e', 'buffet', 'cine', 'got', 'amor', 'wat']\n",
      "\n",
      "Final Messege:  go jurong point crazi avail bugi n great world la e buffet cine got amor wat\n",
      "['go jurong point crazi avail bugi n great world la e buffet cine got amor wat']\n",
      "\t\t\t\t\t\t\t\t\\ Messege 1\n",
      "\n",
      "Regular Expression 1 : Ok lar    Joking wif u oni   \n",
      "\n",
      "After Lowering :  ok lar    joking wif u oni   \n",
      "\n",
      "After Splitting :  ['ok', 'lar', 'joking', 'wif', 'u', 'oni']\n",
      "\n",
      "After steming and stopword removal :  ['ok', 'lar', 'joke', 'wif', 'u', 'oni']\n",
      "\n",
      "Final Messege:  ok lar joke wif u oni\n",
      "['go jurong point crazi avail bugi n great world la e buffet cine got amor wat', 'ok lar joke wif u oni']\n"
     ]
    }
   ],
   "source": [
    "for i in range(0,5572):\n",
    "    \n",
    "    # Using Regular Expression\n",
    "    msg = data['Messege'][i]\n",
    "    \n",
    "    # e-mail\n",
    "    msg = re.sub('\\b[\\w\\-.]+?@\\w+?\\.\\w{2,4}\\b', 'emailaddr', msg)\n",
    "    \n",
    "    # URL\n",
    "    msg = re.sub('(http[s]?\\S+)|(\\w+\\.[A-Za-z]{2,4}\\S*)', 'httpaddr',msg)\n",
    "    \n",
    "    # Money\n",
    "    msg = re.sub('([A-Z]{3}|[A-Z]?[\\$€¥])?\\s?(\\d{1,3}((,\\d{1,3})+)?(.\\d{1,3})?(.\\d{1,3})?(,\\d{1,3})?)', 'moneysymb', msg)\n",
    "    \n",
    "    # Phone_Number\n",
    "    msg = re.sub('\\b(\\+\\d{1,2}\\s)?\\d?[\\-(.]?\\d{3}\\)?[\\s.-]?\\d{3}[\\s.-]?\\d{4}\\b', 'phonenumbr', msg)\n",
    "    \n",
    "    # Numbers\n",
    "    msg = re.sub('\\d+(\\.\\d+)?', 'numbr', msg)\n",
    "    \n",
    "    # Removing Punctuation Marks\n",
    "    msg = re.sub('[^\\w\\d\\s]', ' ', msg)\n",
    "    \n",
    "    #Printing these messeges to see how they are now\n",
    "    \n",
    "    if i<2:\n",
    "        print(\"\\t\\t\\t\\t\\t\\t\\t\\t\\ Messege\",i)\n",
    "    if i<2:\n",
    "        print('\\nRegular Expression',i,':',msg)\n",
    "        \n",
    "    \n",
    "    # Lowering all these words\n",
    "    msg=msg.lower()\n",
    "    \n",
    "    if i<2:\n",
    "        print('\\nAfter Lowering : ',msg)\n",
    "    \n",
    "    # Using Split function to find tokens\n",
    "    msg=msg.split()\n",
    "    \n",
    "    if i<2:\n",
    "        print('\\nAfter Splitting : ',msg)\n",
    "        \n",
    "    # Seperating STOP-WORDS and applying Steming techinque\n",
    "    msg = [ ps.stem(word) for word in msg if not word in set(stopwords.words('english'))]\n",
    "    \n",
    "    if i<2:\n",
    "        print('\\nAfter steming and stopword removal : ',msg)\n",
    "        \n",
    "        \n",
    "    # JOINING the messeges\n",
    "    msg = ' '.join(msg)\n",
    "    \n",
    "    if i<2:\n",
    "        print('\\nFinal Messege: ',msg)\n",
    "        \n",
    "    # Preparing WordVector Corpus\n",
    "    corpus.append(msg)\n",
    "    if i<2:\n",
    "        print(corpus)"
   ]
  },
  {
   "cell_type": "markdown",
   "id": "07f02b35",
   "metadata": {},
   "source": [
    "# <font color = 'green'> Preparing Vector For Each Image"
   ]
  },
  {
   "cell_type": "code",
   "execution_count": 152,
   "id": "1ae9ab8b",
   "metadata": {},
   "outputs": [
    {
     "data": {
      "text/plain": [
       "CountVectorizer()"
      ]
     },
     "execution_count": 152,
     "metadata": {},
     "output_type": "execute_result"
    }
   ],
   "source": [
    "cv = CountVectorizer()\n",
    "cv"
   ]
  },
  {
   "cell_type": "code",
   "execution_count": 154,
   "id": "02b00da4",
   "metadata": {},
   "outputs": [
    {
     "data": {
      "text/plain": [
       "array([[0, 0, 0, ..., 0, 0, 0],\n",
       "       [0, 0, 0, ..., 0, 0, 0],\n",
       "       [0, 0, 0, ..., 0, 0, 0],\n",
       "       ...,\n",
       "       [0, 0, 0, ..., 0, 0, 0],\n",
       "       [0, 0, 0, ..., 0, 0, 0],\n",
       "       [0, 0, 0, ..., 0, 0, 0]], dtype=int64)"
      ]
     },
     "execution_count": 154,
     "metadata": {},
     "output_type": "execute_result"
    }
   ],
   "source": [
    "data_input = cv.fit_transform(corpus).toarray()\n",
    "data_input"
   ]
  },
  {
   "cell_type": "code",
   "execution_count": 155,
   "id": "c2a85a11",
   "metadata": {},
   "outputs": [
    {
     "data": {
      "text/plain": [
       "array([0, 0, 0, ..., 0, 0, 0], dtype=int64)"
      ]
     },
     "execution_count": 155,
     "metadata": {},
     "output_type": "execute_result"
    }
   ],
   "source": [
    "data_input[0]"
   ]
  },
  {
   "cell_type": "code",
   "execution_count": 156,
   "id": "21cbb12b",
   "metadata": {},
   "outputs": [
    {
     "data": {
      "text/plain": [
       "array([0, 0, 0, ..., 0, 0, 0], dtype=int64)"
      ]
     },
     "execution_count": 156,
     "metadata": {},
     "output_type": "execute_result"
    }
   ],
   "source": [
    "data_input[1]"
   ]
  },
  {
   "cell_type": "markdown",
   "id": "a8f51852",
   "metadata": {},
   "source": [
    "# <font color = 'green'> Applying Classification\n",
    "    \n",
    "<ul>\n",
    "    <li> <b>Input</b> - Prepared sparse matrix/vector for each messege</li>\n",
    "    <li> <b>Output</b> - label i.e. , Spam or Ham"
   ]
  },
  {
   "cell_type": "code",
   "execution_count": 157,
   "id": "406066c3",
   "metadata": {},
   "outputs": [
    {
     "data": {
      "text/html": [
       "<div>\n",
       "<style scoped>\n",
       "    .dataframe tbody tr th:only-of-type {\n",
       "        vertical-align: middle;\n",
       "    }\n",
       "\n",
       "    .dataframe tbody tr th {\n",
       "        vertical-align: top;\n",
       "    }\n",
       "\n",
       "    .dataframe thead th {\n",
       "        text-align: right;\n",
       "    }\n",
       "</style>\n",
       "<table border=\"1\" class=\"dataframe\">\n",
       "  <thead>\n",
       "    <tr style=\"text-align: right;\">\n",
       "      <th></th>\n",
       "      <th>Messege</th>\n",
       "      <th>Label_ham</th>\n",
       "      <th>Label_spam</th>\n",
       "      <th>count</th>\n",
       "    </tr>\n",
       "  </thead>\n",
       "  <tbody>\n",
       "    <tr>\n",
       "      <th>0</th>\n",
       "      <td>Go until jurong point, crazy.. Available only ...</td>\n",
       "      <td>1</td>\n",
       "      <td>0</td>\n",
       "      <td>111</td>\n",
       "    </tr>\n",
       "    <tr>\n",
       "      <th>1</th>\n",
       "      <td>Ok lar... Joking wif u oni...</td>\n",
       "      <td>1</td>\n",
       "      <td>0</td>\n",
       "      <td>29</td>\n",
       "    </tr>\n",
       "    <tr>\n",
       "      <th>2</th>\n",
       "      <td>Free entry in 2 a wkly comp to win FA Cup fina...</td>\n",
       "      <td>0</td>\n",
       "      <td>1</td>\n",
       "      <td>155</td>\n",
       "    </tr>\n",
       "    <tr>\n",
       "      <th>3</th>\n",
       "      <td>U dun say so early hor... U c already then say...</td>\n",
       "      <td>1</td>\n",
       "      <td>0</td>\n",
       "      <td>49</td>\n",
       "    </tr>\n",
       "    <tr>\n",
       "      <th>4</th>\n",
       "      <td>Nah I don't think he goes to usf, he lives aro...</td>\n",
       "      <td>1</td>\n",
       "      <td>0</td>\n",
       "      <td>61</td>\n",
       "    </tr>\n",
       "  </tbody>\n",
       "</table>\n",
       "</div>"
      ],
      "text/plain": [
       "                                             Messege  Label_ham  Label_spam  \\\n",
       "0  Go until jurong point, crazy.. Available only ...          1           0   \n",
       "1                      Ok lar... Joking wif u oni...          1           0   \n",
       "2  Free entry in 2 a wkly comp to win FA Cup fina...          0           1   \n",
       "3  U dun say so early hor... U c already then say...          1           0   \n",
       "4  Nah I don't think he goes to usf, he lives aro...          1           0   \n",
       "\n",
       "   count  \n",
       "0    111  \n",
       "1     29  \n",
       "2    155  \n",
       "3     49  \n",
       "4     61  "
      ]
     },
     "execution_count": 157,
     "metadata": {},
     "output_type": "execute_result"
    }
   ],
   "source": [
    "data.head()"
   ]
  },
  {
   "cell_type": "code",
   "execution_count": 158,
   "id": "1faabea3",
   "metadata": {},
   "outputs": [],
   "source": [
    "data_output = data['Label_ham']"
   ]
  },
  {
   "cell_type": "markdown",
   "id": "b6d8478c",
   "metadata": {},
   "source": [
    "## Splitting Data for Traning and Testing"
   ]
  },
  {
   "cell_type": "code",
   "execution_count": 160,
   "id": "8e025f3e",
   "metadata": {},
   "outputs": [],
   "source": [
    "from sklearn.model_selection import train_test_split"
   ]
  },
  {
   "cell_type": "code",
   "execution_count": 161,
   "id": "b3f42c0e",
   "metadata": {},
   "outputs": [
    {
     "data": {
      "text/plain": [
       "(5572, 6894)"
      ]
     },
     "execution_count": 161,
     "metadata": {},
     "output_type": "execute_result"
    }
   ],
   "source": [
    "data_input.shape"
   ]
  },
  {
   "cell_type": "code",
   "execution_count": 162,
   "id": "775fb141",
   "metadata": {},
   "outputs": [
    {
     "data": {
      "text/plain": [
       "(5572,)"
      ]
     },
     "execution_count": 162,
     "metadata": {},
     "output_type": "execute_result"
    }
   ],
   "source": [
    "data_output.shape"
   ]
  },
  {
   "cell_type": "code",
   "execution_count": 164,
   "id": "c4e4f0cc",
   "metadata": {},
   "outputs": [],
   "source": [
    "train_x, test_x, train_y, test_y = train_test_split(data_input, data_output, test_size=0.2, random_state=0)"
   ]
  },
  {
   "cell_type": "markdown",
   "id": "a3a86ddc",
   "metadata": {},
   "source": [
    "<font color = 'red'> Now we can initialize our ML models<br>\n",
    "    \n",
    "    1. GausianNB\n",
    "    2. DecisionTreeClassifier\n",
    "    3. RandomForestClassifier"
   ]
  },
  {
   "cell_type": "markdown",
   "id": "f9d32d11",
   "metadata": {},
   "source": [
    "# <font color ='green'> Initializing ML Models"
   ]
  },
  {
   "cell_type": "code",
   "execution_count": 166,
   "id": "1aa572a1",
   "metadata": {},
   "outputs": [],
   "source": [
    "from sklearn.naive_bayes import GaussianNB\n",
    "from sklearn import tree\n",
    "from sklearn.ensemble import RandomForestClassifier\n",
    "from sklearn.metrics import accuracy_score\n",
    "from sklearn.metrics import classification_report"
   ]
  },
  {
   "cell_type": "markdown",
   "id": "39bbded0",
   "metadata": {},
   "source": [
    "## Preparing ML Models"
   ]
  },
  {
   "cell_type": "markdown",
   "id": "aeeb0349",
   "metadata": {},
   "source": [
    "### Traning"
   ]
  },
  {
   "cell_type": "code",
   "execution_count": 168,
   "id": "5c752f96",
   "metadata": {},
   "outputs": [
    {
     "data": {
      "text/plain": [
       "RandomForestClassifier()"
      ]
     },
     "execution_count": 168,
     "metadata": {},
     "output_type": "execute_result"
    }
   ],
   "source": [
    "# naive_bayes\n",
    "model_nvb = GaussianNB()\n",
    "model_nvb.fit(train_x,train_y)\n",
    "\n",
    "# DecisionTreeClassifier\n",
    "model_dt = tree.DecisionTreeClassifier()\n",
    "model_dt.fit(train_x,train_y)\n",
    "\n",
    "#RandomForestClassifier\n",
    "model_rf = RandomForestClassifier(n_estimators = 100)\n",
    "model_rf.fit(train_x,train_y)"
   ]
  },
  {
   "cell_type": "markdown",
   "id": "8205b6d6",
   "metadata": {},
   "source": [
    "## Model Predictions"
   ]
  },
  {
   "cell_type": "code",
   "execution_count": 170,
   "id": "5b45f417",
   "metadata": {},
   "outputs": [],
   "source": [
    "# Predictions for NaiveBayes\n",
    "prediction_nvb = model_nvb.predict(test_x)\n",
    "\n",
    "# Predictions for DesicionTreeClassifier\n",
    "prediction_dt = model_dt.predict(test_x)\n",
    "\n",
    "# Predictions for RandomForestClassifier\n",
    "prediction_rf = model_rf.predict(test_x)"
   ]
  },
  {
   "cell_type": "markdown",
   "id": "a67424e3",
   "metadata": {},
   "source": [
    "## Results Naive Bayes"
   ]
  },
  {
   "cell_type": "code",
   "execution_count": 172,
   "id": "e6c75c43",
   "metadata": {},
   "outputs": [
    {
     "name": "stdout",
     "output_type": "stream",
     "text": [
      "Accuracy : 0.86637 \n",
      "\n",
      "\n",
      "Classification Report : \n",
      "               precision    recall  f1-score   support\n",
      "\n",
      "           0       0.53      0.85      0.65       166\n",
      "           1       0.97      0.87      0.92       949\n",
      "\n",
      "    accuracy                           0.87      1115\n",
      "   macro avg       0.75      0.86      0.79      1115\n",
      "weighted avg       0.91      0.87      0.88      1115\n",
      "\n"
     ]
    }
   ],
   "source": [
    "# Accuracy\n",
    "print(\"Accuracy : %0.5f \\n\\n\" % accuracy_score(test_y,prediction_nvb))\n",
    "\n",
    "# Classification Report\n",
    "print(\"Classification Report : \\n\",classification_report(test_y,prediction_nvb))"
   ]
  },
  {
   "cell_type": "markdown",
   "id": "d5a4b1a4",
   "metadata": {},
   "source": [
    "## Results DecisionTreeClassifier"
   ]
  },
  {
   "cell_type": "code",
   "execution_count": 173,
   "id": "70376588",
   "metadata": {},
   "outputs": [
    {
     "name": "stdout",
     "output_type": "stream",
     "text": [
      "Accuracy : 0.97130 \n",
      "\n",
      "\n",
      "Classification Report : \n",
      "               precision    recall  f1-score   support\n",
      "\n",
      "           0       0.94      0.86      0.90       166\n",
      "           1       0.98      0.99      0.98       949\n",
      "\n",
      "    accuracy                           0.97      1115\n",
      "   macro avg       0.96      0.93      0.94      1115\n",
      "weighted avg       0.97      0.97      0.97      1115\n",
      "\n"
     ]
    }
   ],
   "source": [
    "# Accuracy\n",
    "print(\"Accuracy : %0.5f \\n\\n\" % accuracy_score(test_y,prediction_dt))\n",
    "\n",
    "# Classification Report\n",
    "print(\"Classification Report : \\n\",classification_report(test_y,prediction_dt))"
   ]
  },
  {
   "cell_type": "markdown",
   "id": "23d83b62",
   "metadata": {},
   "source": [
    "## Results RandomForestClassifer"
   ]
  },
  {
   "cell_type": "code",
   "execution_count": 174,
   "id": "3f094129",
   "metadata": {},
   "outputs": [
    {
     "name": "stdout",
     "output_type": "stream",
     "text": [
      "Accuracy : 0.97578 \n",
      "\n",
      "\n",
      "Classification Report : \n",
      "               precision    recall  f1-score   support\n",
      "\n",
      "           0       1.00      0.84      0.91       166\n",
      "           1       0.97      1.00      0.99       949\n",
      "\n",
      "    accuracy                           0.98      1115\n",
      "   macro avg       0.99      0.92      0.95      1115\n",
      "weighted avg       0.98      0.98      0.97      1115\n",
      "\n"
     ]
    }
   ],
   "source": [
    "# Accuracy\n",
    "print(\"Accuracy : %0.5f \\n\\n\" % accuracy_score(test_y,prediction_rf))\n",
    "\n",
    "# Classification Repo\n",
    "print(\"Classification Report : \\n\",classification_report(test_y,prediction_rf))"
   ]
  },
  {
   "cell_type": "code",
   "execution_count": null,
   "id": "b3305491",
   "metadata": {},
   "outputs": [],
   "source": []
  }
 ],
 "metadata": {
  "kernelspec": {
   "display_name": "Python 3 (ipykernel)",
   "language": "python",
   "name": "python3"
  },
  "language_info": {
   "codemirror_mode": {
    "name": "ipython",
    "version": 3
   },
   "file_extension": ".py",
   "mimetype": "text/x-python",
   "name": "python",
   "nbconvert_exporter": "python",
   "pygments_lexer": "ipython3",
   "version": "3.10.2"
  }
 },
 "nbformat": 4,
 "nbformat_minor": 5
}
