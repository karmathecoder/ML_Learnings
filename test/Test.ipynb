{
 "cells": [
  {
   "cell_type": "code",
   "execution_count": 1,
   "id": "8885ed5e",
   "metadata": {},
   "outputs": [],
   "source": [
    "import numpy as np"
   ]
  },
  {
   "cell_type": "code",
   "execution_count": 2,
   "id": "be9e4b7f",
   "metadata": {},
   "outputs": [
    {
     "name": "stdout",
     "output_type": "stream",
     "text": [
      "5\n"
     ]
    }
   ],
   "source": [
    "s_arr = [[1,2,3],[0,1,4]]\n",
    "a = np.array(s_arr)\n",
    "b = np.zeros((2,3),dtype = np.int16)\n",
    "c = np.ones((2,3),dtype = np.int16)\n",
    "d = a+b+c\n",
    "print(d[1,2])"
   ]
  },
  {
   "cell_type": "code",
   "execution_count": 5,
   "id": "6e36c589",
   "metadata": {},
   "outputs": [
    {
     "data": {
      "text/plain": [
       "array([[2, 3, 4],\n",
       "       [1, 2, 5]])"
      ]
     },
     "execution_count": 5,
     "metadata": {},
     "output_type": "execute_result"
    }
   ],
   "source": [
    "d"
   ]
  },
  {
   "cell_type": "code",
   "execution_count": 2,
   "id": "c2c176c9",
   "metadata": {},
   "outputs": [],
   "source": [
    "\n",
    "\n",
    "import matplotlib.pyplot as plt\n",
    "import matplotlib.axes as ax\n"
   ]
  },
  {
   "cell_type": "code",
   "execution_count": 3,
   "id": "a0ceca45",
   "metadata": {},
   "outputs": [],
   "source": [
    "train_input = [[ 24.],\n",
    "       [ 50.],\n",
    "       [ 15.],\n",
    "       [ 38.],\n",
    "       [ 87.],\n",
    "       [ 36.],\n",
    "       [ 12.],\n",
    "       [ 81.],\n",
    "       [ 25.],\n",
    "       [  5.],\n",
    "       [ 16.],\n",
    "       [ 16.],\n",
    "       [ 24.]]\n",
    "\n",
    "train_output = [[ 21.54945196],\n",
    "       [ 47.46446305],\n",
    "       [ 17.21865634],\n",
    "       [ 36.58639803],\n",
    "       [ 87.28898389],\n",
    "       [ 32.46387493],\n",
    "       [ 10.78089683],\n",
    "       [ 80.7633986 ],\n",
    "       [ 24.61215147],\n",
    "       [  6.96331907],\n",
    "       [ 11.23757338],\n",
    "       [ 13.53290206],\n",
    "       [ 24.60323899]]\n",
    "\n",
    "parameters = [[ 252.],\n",
    "       [ 512.],\n",
    "       [ 162.],\n",
    "       [ 392.],\n",
    "       [ 882.],\n",
    "       [ 372.],\n",
    "       [ 132.],\n",
    "       [ 822.],\n",
    "       [ 262.],\n",
    "       [  62.],\n",
    "       [ 172.],\n",
    "       [ 172.],\n",
    "       [ 252.]]\n",
    "    "
   ]
  },
  {
   "cell_type": "code",
   "execution_count": 15,
   "id": "fce07b11",
   "metadata": {},
   "outputs": [
    {
     "ename": "NameError",
     "evalue": "name 'predictions' is not defined",
     "output_type": "error",
     "traceback": [
      "\u001b[1;31m---------------------------------------------------------------------------\u001b[0m",
      "\u001b[1;31mNameError\u001b[0m                                 Traceback (most recent call last)",
      "Input \u001b[1;32mIn [15]\u001b[0m, in \u001b[0;36m<cell line: 5>\u001b[1;34m()\u001b[0m\n\u001b[0;32m      2\u001b[0m fig, ax \u001b[38;5;241m=\u001b[39m plt\u001b[38;5;241m.\u001b[39msubplots()\n\u001b[0;32m      4\u001b[0m ax\u001b[38;5;241m.\u001b[39mplot(train_input,train_output,\u001b[38;5;124m'\u001b[39m\u001b[38;5;124m+\u001b[39m\u001b[38;5;124m'\u001b[39m,label \u001b[38;5;241m=\u001b[39m \u001b[38;5;124m\"\u001b[39m\u001b[38;5;124morignal\u001b[39m\u001b[38;5;124m\"\u001b[39m)\n\u001b[1;32m----> 5\u001b[0m ax\u001b[38;5;241m.\u001b[39mplot(train_input,predictions, \u001b[38;5;124m'\u001b[39m\u001b[38;5;124m*\u001b[39m\u001b[38;5;124m'\u001b[39m,label \u001b[38;5;241m=\u001b[39m \u001b[38;5;124m\"\u001b[39m\u001b[38;5;124mtraning\u001b[39m\u001b[38;5;124m\"\u001b[39m)\n\u001b[0;32m      7\u001b[0m legends \u001b[38;5;241m=\u001b[39m ax\u001b[38;5;241m.\u001b[39mlegend()\n\u001b[0;32m      9\u001b[0m plt\u001b[38;5;241m.\u001b[39mplot(train_input,train_output,\u001b[38;5;124m'\u001b[39m\u001b[38;5;124m+\u001b[39m\u001b[38;5;124m'\u001b[39m)\n",
      "\u001b[1;31mNameError\u001b[0m: name 'predictions' is not defined"
     ]
    },
    {
     "data": {
      "text/plain": [
       "<Figure size 432x288 with 0 Axes>"
      ]
     },
     "metadata": {},
     "output_type": "display_data"
    },
    {
     "data": {
      "image/png": "[encoded data removed]",
      "text/plain": [
       "<Figure size 432x288 with 1 Axes>"
      ]
     },
     "metadata": {
      "needs_background": "light"
     },
     "output_type": "display_data"
    }
   ],
   "source": [
    "plt.figure()\n",
    "fig, ax = plt.subplots()\n",
    "        \n",
    "ax.plot(train_input,train_output,'+',label = \"orignal\")\n",
    "ax.plot(train_input,predictions, '*',label = \"traning\")\n",
    "        \n",
    "legends = ax.legend()\n",
    "        \n",
    "plt.plot(train_input,train_output,'+')\n",
    "plt.plot(train_input,predictions, '*')\n",
    "        \n",
    "plt.show()"
   ]
  },
  {
   "cell_type": "code",
   "execution_count": null,
   "id": "6df57c11",
   "metadata": {},
   "outputs": [],
   "source": []
  },
  {
   "cell_type": "code",
   "execution_count": 2,
   "id": "ea0c261c",
   "metadata": {},
   "outputs": [
    {
     "name": "stdout",
     "output_type": "stream",
     "text": [
      "The Value in the output variable is: None\n"
     ]
    },
    {
     "ename": "TypeError",
     "evalue": "'NoneType' object is not subscriptable",
     "output_type": "error",
     "traceback": [
      "\u001b[1;31m---------------------------------------------------------------------------\u001b[0m",
      "\u001b[1;31mTypeError\u001b[0m                                 Traceback (most recent call last)",
      "Input \u001b[1;32mIn [2]\u001b[0m, in \u001b[0;36m<cell line: 4>\u001b[1;34m()\u001b[0m\n\u001b[0;32m      2\u001b[0m output \u001b[38;5;241m=\u001b[39m numbers\u001b[38;5;241m.\u001b[39msort()\n\u001b[0;32m      3\u001b[0m \u001b[38;5;28mprint\u001b[39m(\u001b[38;5;124m\"\u001b[39m\u001b[38;5;124mThe Value in the output variable is:\u001b[39m\u001b[38;5;124m\"\u001b[39m, output)\n\u001b[1;32m----> 4\u001b[0m \u001b[38;5;28mprint\u001b[39m(output[\u001b[38;5;241m5\u001b[39m])\n",
      "\u001b[1;31mTypeError\u001b[0m: 'NoneType' object is not subscriptable"
     ]
    }
   ],
   "source": [
    "numbers = [4, 5, 7, 1, 3, 6, 9, 8, 0]\n",
    "output = numbers.sort()\n",
    "print(\"The Value in the output variable is:\", output)\n",
    "print(output[5])"
   ]
  },
  {
   "cell_type": "code",
   "execution_count": 12,
   "id": "dfe5db1d",
   "metadata": {},
   "outputs": [
    {
     "name": "stdout",
     "output_type": "stream",
     "text": [
      "The Value in the output variable is: 0\n",
      "0\n"
     ]
    }
   ],
   "source": [
    "numbers = [4, 5, 7, 1, 3, 6, 9, 8, 0]\n",
    "numbers.sort()\n",
    "output = numbers[0]\n",
    "print(\"The Value in the output variable is:\", output)\n",
    "print(output)"
   ]
  },
  {
   "cell_type": "code",
   "execution_count": 14,
   "id": "d2559eca",
   "metadata": {},
   "outputs": [
    {
     "name": "stdout",
     "output_type": "stream",
     "text": [
      "24\n"
     ]
    }
   ],
   "source": [
    "def forward_propagation(train_input,parameters):\n",
    "    m = parameters['m']\n",
    "    c = parameters['c']\n",
    "    \n",
    "    predictions = np.multiply(m, train_input) + c\n",
    "    \n",
    "    return predictions\n",
    "    # will return f(x)\n",
    "    \n",
    "def train(train_input,iters):\n",
    "    \n",
    "    parameters = dict()\n",
    "    \n",
    "    # initalizing values for 'm' and 'c' keys\n",
    "    parameters['m'] = np.random.uniform(0,1) * -1\n",
    "    parameters['c'] = np.random.uniform(0,1) * -1\n",
    "    \n",
    "    for i in range(iters):\n",
    "        predictions = forward_propagation(train_input,parameters)\n",
    "    \n",
    "    return predictions\n",
    "\n",
    "predictions = train(10,5)\n",
    "print(predictions)"
   ]
  },
  {
   "cell_type": "code",
   "execution_count": 14,
   "id": "b0d3414c",
   "metadata": {},
   "outputs": [],
   "source": [
    "import pandas as pd"
   ]
  },
  {
   "cell_type": "code",
   "execution_count": 15,
   "id": "71f7bc32",
   "metadata": {},
   "outputs": [],
   "source": [
    "data = pd.read_excel('study_data.xlsx')"
   ]
  },
  {
   "cell_type": "code",
   "execution_count": 16,
   "id": "83451fda",
   "metadata": {},
   "outputs": [
    {
     "data": {
      "text/html": [
       "<div>\n",
       "<style scoped>\n",
       "    .dataframe tbody tr th:only-of-type {\n",
       "        vertical-align: middle;\n",
       "    }\n",
       "\n",
       "    .dataframe tbody tr th {\n",
       "        vertical-align: top;\n",
       "    }\n",
       "\n",
       "    .dataframe thead th {\n",
       "        text-align: right;\n",
       "    }\n",
       "</style>\n",
       "<table border=\"1\" class=\"dataframe\">\n",
       "  <thead>\n",
       "    <tr style=\"text-align: right;\">\n",
       "      <th></th>\n",
       "      <th>repetition_time</th>\n",
       "      <th>study_time</th>\n",
       "      <th>knowledge_level</th>\n",
       "    </tr>\n",
       "  </thead>\n",
       "  <tbody>\n",
       "    <tr>\n",
       "      <th>0</th>\n",
       "      <td>0.00</td>\n",
       "      <td>0.00</td>\n",
       "      <td>Low</td>\n",
       "    </tr>\n",
       "    <tr>\n",
       "      <th>1</th>\n",
       "      <td>0.24</td>\n",
       "      <td>0.90</td>\n",
       "      <td>High</td>\n",
       "    </tr>\n",
       "    <tr>\n",
       "      <th>2</th>\n",
       "      <td>0.25</td>\n",
       "      <td>0.33</td>\n",
       "      <td>Low</td>\n",
       "    </tr>\n",
       "    <tr>\n",
       "      <th>3</th>\n",
       "      <td>0.98</td>\n",
       "      <td>0.24</td>\n",
       "      <td>Low</td>\n",
       "    </tr>\n",
       "    <tr>\n",
       "      <th>4</th>\n",
       "      <td>0.72</td>\n",
       "      <td>0.25</td>\n",
       "      <td>Low</td>\n",
       "    </tr>\n",
       "  </tbody>\n",
       "</table>\n",
       "</div>"
      ],
      "text/plain": [
       "   repetition_time  study_time knowledge_level\n",
       "0             0.00        0.00             Low\n",
       "1             0.24        0.90            High\n",
       "2             0.25        0.33             Low\n",
       "3             0.98        0.24             Low\n",
       "4             0.72        0.25             Low"
      ]
     },
     "execution_count": 16,
     "metadata": {},
     "output_type": "execute_result"
    }
   ],
   "source": [
    "data.head()"
   ]
  },
  {
   "cell_type": "code",
   "execution_count": 17,
   "id": "793a78f8",
   "metadata": {},
   "outputs": [
    {
     "name": "stdout",
     "output_type": "stream",
     "text": [
      "<class 'pandas.core.frame.DataFrame'>\n",
      "RangeIndex: 147 entries, 0 to 146\n",
      "Data columns (total 3 columns):\n",
      " #   Column           Non-Null Count  Dtype  \n",
      "---  ------           --------------  -----  \n",
      " 0   repetition_time  147 non-null    float64\n",
      " 1   study_time       147 non-null    float64\n",
      " 2   knowledge_level  147 non-null    object \n",
      "dtypes: float64(2), object(1)\n",
      "memory usage: 3.6+ KB\n"
     ]
    }
   ],
   "source": [
    "data.info()"
   ]
  },
  {
   "cell_type": "code",
   "execution_count": 19,
   "id": "53d2c77e",
   "metadata": {},
   "outputs": [],
   "source": [
    "data.to_csv (\"study_data.csv\", index = None, header=True)"
   ]
  },
  {
   "cell_type": "code",
   "execution_count": 20,
   "id": "62341527",
   "metadata": {},
   "outputs": [],
   "source": [
    "df = pd.DataFrame(pd.read_csv(\"study_data.csv\"))"
   ]
  },
  {
   "cell_type": "code",
   "execution_count": 21,
   "id": "08df0005",
   "metadata": {},
   "outputs": [
    {
     "data": {
      "text/html": [
       "<div>\n",
       "<style scoped>\n",
       "    .dataframe tbody tr th:only-of-type {\n",
       "        vertical-align: middle;\n",
       "    }\n",
       "\n",
       "    .dataframe tbody tr th {\n",
       "        vertical-align: top;\n",
       "    }\n",
       "\n",
       "    .dataframe thead th {\n",
       "        text-align: right;\n",
       "    }\n",
       "</style>\n",
       "<table border=\"1\" class=\"dataframe\">\n",
       "  <thead>\n",
       "    <tr style=\"text-align: right;\">\n",
       "      <th></th>\n",
       "      <th>repetition_time</th>\n",
       "      <th>study_time</th>\n",
       "      <th>knowledge_level</th>\n",
       "    </tr>\n",
       "  </thead>\n",
       "  <tbody>\n",
       "    <tr>\n",
       "      <th>0</th>\n",
       "      <td>0.00</td>\n",
       "      <td>0.00</td>\n",
       "      <td>Low</td>\n",
       "    </tr>\n",
       "    <tr>\n",
       "      <th>1</th>\n",
       "      <td>0.24</td>\n",
       "      <td>0.90</td>\n",
       "      <td>High</td>\n",
       "    </tr>\n",
       "    <tr>\n",
       "      <th>2</th>\n",
       "      <td>0.25</td>\n",
       "      <td>0.33</td>\n",
       "      <td>Low</td>\n",
       "    </tr>\n",
       "    <tr>\n",
       "      <th>3</th>\n",
       "      <td>0.98</td>\n",
       "      <td>0.24</td>\n",
       "      <td>Low</td>\n",
       "    </tr>\n",
       "    <tr>\n",
       "      <th>4</th>\n",
       "      <td>0.72</td>\n",
       "      <td>0.25</td>\n",
       "      <td>Low</td>\n",
       "    </tr>\n",
       "    <tr>\n",
       "      <th>...</th>\n",
       "      <td>...</td>\n",
       "      <td>...</td>\n",
       "      <td>...</td>\n",
       "    </tr>\n",
       "    <tr>\n",
       "      <th>142</th>\n",
       "      <td>0.65</td>\n",
       "      <td>0.90</td>\n",
       "      <td>High</td>\n",
       "    </tr>\n",
       "    <tr>\n",
       "      <th>143</th>\n",
       "      <td>0.64</td>\n",
       "      <td>0.19</td>\n",
       "      <td>Low</td>\n",
       "    </tr>\n",
       "    <tr>\n",
       "      <th>144</th>\n",
       "      <td>0.92</td>\n",
       "      <td>0.58</td>\n",
       "      <td>High</td>\n",
       "    </tr>\n",
       "    <tr>\n",
       "      <th>145</th>\n",
       "      <td>0.29</td>\n",
       "      <td>0.77</td>\n",
       "      <td>High</td>\n",
       "    </tr>\n",
       "    <tr>\n",
       "      <th>146</th>\n",
       "      <td>0.87</td>\n",
       "      <td>0.74</td>\n",
       "      <td>High</td>\n",
       "    </tr>\n",
       "  </tbody>\n",
       "</table>\n",
       "<p>147 rows × 3 columns</p>\n",
       "</div>"
      ],
      "text/plain": [
       "     repetition_time  study_time knowledge_level\n",
       "0               0.00        0.00             Low\n",
       "1               0.24        0.90            High\n",
       "2               0.25        0.33             Low\n",
       "3               0.98        0.24             Low\n",
       "4               0.72        0.25             Low\n",
       "..               ...         ...             ...\n",
       "142             0.65        0.90            High\n",
       "143             0.64        0.19             Low\n",
       "144             0.92        0.58            High\n",
       "145             0.29        0.77            High\n",
       "146             0.87        0.74            High\n",
       "\n",
       "[147 rows x 3 columns]"
      ]
     },
     "execution_count": 21,
     "metadata": {},
     "output_type": "execute_result"
    }
   ],
   "source": [
    "df"
   ]
  },
  {
   "cell_type": "code",
   "execution_count": null,
   "id": "31247750",
   "metadata": {},
   "outputs": [],
   "source": []
  }
 ],
 "metadata": {
  "kernelspec": {
   "display_name": "Python 3 (ipykernel)",
   "language": "python",
   "name": "python3"
  },
  "language_info": {
   "codemirror_mode": {
    "name": "ipython",
    "version": 3
   },
   "file_extension": ".py",
   "mimetype": "text/x-python",
   "name": "python",
   "nbconvert_exporter": "python",
   "pygments_lexer": "ipython3",
   "version": "3.10.2"
  }
 },
 "nbformat": 4,
 "nbformat_minor": 5
}
