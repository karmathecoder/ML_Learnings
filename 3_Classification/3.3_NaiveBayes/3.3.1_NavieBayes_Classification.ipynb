{
 "cells": [
  {
   "cell_type": "markdown",
   "id": "02b6ca41",
   "metadata": {},
   "source": [
    "## Importing Liabraries"
   ]
  },
  {
   "cell_type": "code",
   "execution_count": 49,
   "id": "7a1384ed",
   "metadata": {},
   "outputs": [],
   "source": [
    "import pandas as pd\n",
    "import numpy as np\n",
    "\n",
    "import matplotlib.pyplot as plt\n",
    "import matplotlib.axes as ax"
   ]
  },
  {
   "cell_type": "markdown",
   "id": "2637415a",
   "metadata": {},
   "source": [
    "## Loading Data"
   ]
  },
  {
   "cell_type": "code",
   "execution_count": 12,
   "id": "aa8d9706",
   "metadata": {},
   "outputs": [],
   "source": [
    "data = pd.read_csv('study_data.csv')"
   ]
  },
  {
   "cell_type": "code",
   "execution_count": 13,
   "id": "aa99759e",
   "metadata": {},
   "outputs": [
    {
     "data": {
      "text/html": [
       "<div>\n",
       "<style scoped>\n",
       "    .dataframe tbody tr th:only-of-type {\n",
       "        vertical-align: middle;\n",
       "    }\n",
       "\n",
       "    .dataframe tbody tr th {\n",
       "        vertical-align: top;\n",
       "    }\n",
       "\n",
       "    .dataframe thead th {\n",
       "        text-align: right;\n",
       "    }\n",
       "</style>\n",
       "<table border=\"1\" class=\"dataframe\">\n",
       "  <thead>\n",
       "    <tr style=\"text-align: right;\">\n",
       "      <th></th>\n",
       "      <th>repetition_time</th>\n",
       "      <th>study_time</th>\n",
       "      <th>knowledge_level</th>\n",
       "    </tr>\n",
       "  </thead>\n",
       "  <tbody>\n",
       "    <tr>\n",
       "      <th>0</th>\n",
       "      <td>0.00</td>\n",
       "      <td>0.00</td>\n",
       "      <td>Low</td>\n",
       "    </tr>\n",
       "    <tr>\n",
       "      <th>1</th>\n",
       "      <td>0.24</td>\n",
       "      <td>0.90</td>\n",
       "      <td>High</td>\n",
       "    </tr>\n",
       "    <tr>\n",
       "      <th>2</th>\n",
       "      <td>0.25</td>\n",
       "      <td>0.33</td>\n",
       "      <td>Low</td>\n",
       "    </tr>\n",
       "    <tr>\n",
       "      <th>3</th>\n",
       "      <td>0.98</td>\n",
       "      <td>0.24</td>\n",
       "      <td>Low</td>\n",
       "    </tr>\n",
       "    <tr>\n",
       "      <th>4</th>\n",
       "      <td>0.72</td>\n",
       "      <td>0.25</td>\n",
       "      <td>Low</td>\n",
       "    </tr>\n",
       "  </tbody>\n",
       "</table>\n",
       "</div>"
      ],
      "text/plain": [
       "   repetition_time  study_time knowledge_level\n",
       "0             0.00        0.00             Low\n",
       "1             0.24        0.90            High\n",
       "2             0.25        0.33             Low\n",
       "3             0.98        0.24             Low\n",
       "4             0.72        0.25             Low"
      ]
     },
     "execution_count": 13,
     "metadata": {},
     "output_type": "execute_result"
    }
   ],
   "source": [
    "data.head()"
   ]
  },
  {
   "cell_type": "code",
   "execution_count": 14,
   "id": "6b81eb13",
   "metadata": {},
   "outputs": [
    {
     "name": "stdout",
     "output_type": "stream",
     "text": [
      "<class 'pandas.core.frame.DataFrame'>\n",
      "RangeIndex: 147 entries, 0 to 146\n",
      "Data columns (total 3 columns):\n",
      " #   Column           Non-Null Count  Dtype  \n",
      "---  ------           --------------  -----  \n",
      " 0   repetition_time  147 non-null    float64\n",
      " 1   study_time       147 non-null    float64\n",
      " 2   knowledge_level  147 non-null    object \n",
      "dtypes: float64(2), object(1)\n",
      "memory usage: 3.6+ KB\n"
     ]
    }
   ],
   "source": [
    "data.info()"
   ]
  },
  {
   "cell_type": "code",
   "execution_count": 16,
   "id": "608082ae",
   "metadata": {},
   "outputs": [
    {
     "data": {
      "text/html": [
       "<div>\n",
       "<style scoped>\n",
       "    .dataframe tbody tr th:only-of-type {\n",
       "        vertical-align: middle;\n",
       "    }\n",
       "\n",
       "    .dataframe tbody tr th {\n",
       "        vertical-align: top;\n",
       "    }\n",
       "\n",
       "    .dataframe thead th {\n",
       "        text-align: right;\n",
       "    }\n",
       "</style>\n",
       "<table border=\"1\" class=\"dataframe\">\n",
       "  <thead>\n",
       "    <tr style=\"text-align: right;\">\n",
       "      <th></th>\n",
       "      <th>repetition_time</th>\n",
       "      <th>study_time</th>\n",
       "    </tr>\n",
       "  </thead>\n",
       "  <tbody>\n",
       "    <tr>\n",
       "      <th>count</th>\n",
       "      <td>147.000000</td>\n",
       "      <td>147.000000</td>\n",
       "    </tr>\n",
       "    <tr>\n",
       "      <th>mean</th>\n",
       "      <td>0.495646</td>\n",
       "      <td>0.465259</td>\n",
       "    </tr>\n",
       "    <tr>\n",
       "      <th>std</th>\n",
       "      <td>0.250635</td>\n",
       "      <td>0.282116</td>\n",
       "    </tr>\n",
       "    <tr>\n",
       "      <th>min</th>\n",
       "      <td>0.000000</td>\n",
       "      <td>0.000000</td>\n",
       "    </tr>\n",
       "    <tr>\n",
       "      <th>25%</th>\n",
       "      <td>0.280000</td>\n",
       "      <td>0.250000</td>\n",
       "    </tr>\n",
       "    <tr>\n",
       "      <th>50%</th>\n",
       "      <td>0.480000</td>\n",
       "      <td>0.300000</td>\n",
       "    </tr>\n",
       "    <tr>\n",
       "      <th>75%</th>\n",
       "      <td>0.720000</td>\n",
       "      <td>0.780000</td>\n",
       "    </tr>\n",
       "    <tr>\n",
       "      <th>max</th>\n",
       "      <td>0.990000</td>\n",
       "      <td>0.930000</td>\n",
       "    </tr>\n",
       "  </tbody>\n",
       "</table>\n",
       "</div>"
      ],
      "text/plain": [
       "       repetition_time  study_time\n",
       "count       147.000000  147.000000\n",
       "mean          0.495646    0.465259\n",
       "std           0.250635    0.282116\n",
       "min           0.000000    0.000000\n",
       "25%           0.280000    0.250000\n",
       "50%           0.480000    0.300000\n",
       "75%           0.720000    0.780000\n",
       "max           0.990000    0.930000"
      ]
     },
     "execution_count": 16,
     "metadata": {},
     "output_type": "execute_result"
    }
   ],
   "source": [
    "data.describe()"
   ]
  },
  {
   "cell_type": "markdown",
   "id": "5fb2c4bd",
   "metadata": {},
   "source": [
    "#### Counting Unique Values"
   ]
  },
  {
   "cell_type": "code",
   "execution_count": 18,
   "id": "3e917c9b",
   "metadata": {},
   "outputs": [
    {
     "data": {
      "text/plain": [
       "array(['Low', 'High'], dtype=object)"
      ]
     },
     "execution_count": 18,
     "metadata": {},
     "output_type": "execute_result"
    }
   ],
   "source": [
    "data['knowledge_level'].unique()"
   ]
  },
  {
   "cell_type": "code",
   "execution_count": 20,
   "id": "56126ce9",
   "metadata": {},
   "outputs": [
    {
     "data": {
      "text/plain": [
       "Low     84\n",
       "High    63\n",
       "Name: knowledge_level, dtype: int64"
      ]
     },
     "execution_count": 20,
     "metadata": {},
     "output_type": "execute_result"
    }
   ],
   "source": [
    "data['knowledge_level'].value_counts()"
   ]
  },
  {
   "cell_type": "markdown",
   "id": "8b647125",
   "metadata": {},
   "source": [
    "### Splitting Data"
   ]
  },
  {
   "cell_type": "code",
   "execution_count": 23,
   "id": "2d847963",
   "metadata": {},
   "outputs": [],
   "source": [
    "x = data.drop(data.columns[[2]],axis = 1)\n",
    "y = data['knowledge_level']"
   ]
  },
  {
   "cell_type": "code",
   "execution_count": null,
   "id": "e062cd47",
   "metadata": {},
   "outputs": [],
   "source": []
  },
  {
   "cell_type": "code",
   "execution_count": 24,
   "id": "6635d0d2",
   "metadata": {},
   "outputs": [
    {
     "data": {
      "text/html": [
       "<div>\n",
       "<style scoped>\n",
       "    .dataframe tbody tr th:only-of-type {\n",
       "        vertical-align: middle;\n",
       "    }\n",
       "\n",
       "    .dataframe tbody tr th {\n",
       "        vertical-align: top;\n",
       "    }\n",
       "\n",
       "    .dataframe thead th {\n",
       "        text-align: right;\n",
       "    }\n",
       "</style>\n",
       "<table border=\"1\" class=\"dataframe\">\n",
       "  <thead>\n",
       "    <tr style=\"text-align: right;\">\n",
       "      <th></th>\n",
       "      <th>repetition_time</th>\n",
       "      <th>study_time</th>\n",
       "    </tr>\n",
       "  </thead>\n",
       "  <tbody>\n",
       "    <tr>\n",
       "      <th>0</th>\n",
       "      <td>0.00</td>\n",
       "      <td>0.00</td>\n",
       "    </tr>\n",
       "    <tr>\n",
       "      <th>1</th>\n",
       "      <td>0.24</td>\n",
       "      <td>0.90</td>\n",
       "    </tr>\n",
       "    <tr>\n",
       "      <th>2</th>\n",
       "      <td>0.25</td>\n",
       "      <td>0.33</td>\n",
       "    </tr>\n",
       "    <tr>\n",
       "      <th>3</th>\n",
       "      <td>0.98</td>\n",
       "      <td>0.24</td>\n",
       "    </tr>\n",
       "    <tr>\n",
       "      <th>4</th>\n",
       "      <td>0.72</td>\n",
       "      <td>0.25</td>\n",
       "    </tr>\n",
       "  </tbody>\n",
       "</table>\n",
       "</div>"
      ],
      "text/plain": [
       "   repetition_time  study_time\n",
       "0             0.00        0.00\n",
       "1             0.24        0.90\n",
       "2             0.25        0.33\n",
       "3             0.98        0.24\n",
       "4             0.72        0.25"
      ]
     },
     "execution_count": 24,
     "metadata": {},
     "output_type": "execute_result"
    }
   ],
   "source": [
    "x.head()"
   ]
  },
  {
   "cell_type": "code",
   "execution_count": 25,
   "id": "82d138a7",
   "metadata": {},
   "outputs": [
    {
     "data": {
      "text/plain": [
       "0     Low\n",
       "1    High\n",
       "2     Low\n",
       "3     Low\n",
       "4     Low\n",
       "Name: knowledge_level, dtype: object"
      ]
     },
     "execution_count": 25,
     "metadata": {},
     "output_type": "execute_result"
    }
   ],
   "source": [
    "y.head()"
   ]
  },
  {
   "cell_type": "code",
   "execution_count": 27,
   "id": "b5819dca",
   "metadata": {},
   "outputs": [],
   "source": [
    "y = pd.get_dummies(data , columns = ['knowledge_level'])"
   ]
  },
  {
   "cell_type": "code",
   "execution_count": 29,
   "id": "d93feb64",
   "metadata": {},
   "outputs": [
    {
     "data": {
      "text/html": [
       "<div>\n",
       "<style scoped>\n",
       "    .dataframe tbody tr th:only-of-type {\n",
       "        vertical-align: middle;\n",
       "    }\n",
       "\n",
       "    .dataframe tbody tr th {\n",
       "        vertical-align: top;\n",
       "    }\n",
       "\n",
       "    .dataframe thead th {\n",
       "        text-align: right;\n",
       "    }\n",
       "</style>\n",
       "<table border=\"1\" class=\"dataframe\">\n",
       "  <thead>\n",
       "    <tr style=\"text-align: right;\">\n",
       "      <th></th>\n",
       "      <th>repetition_time</th>\n",
       "      <th>study_time</th>\n",
       "      <th>knowledge_level_High</th>\n",
       "      <th>knowledge_level_Low</th>\n",
       "    </tr>\n",
       "  </thead>\n",
       "  <tbody>\n",
       "    <tr>\n",
       "      <th>0</th>\n",
       "      <td>0.00</td>\n",
       "      <td>0.00</td>\n",
       "      <td>0</td>\n",
       "      <td>1</td>\n",
       "    </tr>\n",
       "    <tr>\n",
       "      <th>1</th>\n",
       "      <td>0.24</td>\n",
       "      <td>0.90</td>\n",
       "      <td>1</td>\n",
       "      <td>0</td>\n",
       "    </tr>\n",
       "    <tr>\n",
       "      <th>2</th>\n",
       "      <td>0.25</td>\n",
       "      <td>0.33</td>\n",
       "      <td>0</td>\n",
       "      <td>1</td>\n",
       "    </tr>\n",
       "    <tr>\n",
       "      <th>3</th>\n",
       "      <td>0.98</td>\n",
       "      <td>0.24</td>\n",
       "      <td>0</td>\n",
       "      <td>1</td>\n",
       "    </tr>\n",
       "    <tr>\n",
       "      <th>4</th>\n",
       "      <td>0.72</td>\n",
       "      <td>0.25</td>\n",
       "      <td>0</td>\n",
       "      <td>1</td>\n",
       "    </tr>\n",
       "  </tbody>\n",
       "</table>\n",
       "</div>"
      ],
      "text/plain": [
       "   repetition_time  study_time  knowledge_level_High  knowledge_level_Low\n",
       "0             0.00        0.00                     0                    1\n",
       "1             0.24        0.90                     1                    0\n",
       "2             0.25        0.33                     0                    1\n",
       "3             0.98        0.24                     0                    1\n",
       "4             0.72        0.25                     0                    1"
      ]
     },
     "execution_count": 29,
     "metadata": {},
     "output_type": "execute_result"
    }
   ],
   "source": [
    "y.head()"
   ]
  },
  {
   "cell_type": "markdown",
   "id": "98fd0b74",
   "metadata": {},
   "source": [
    "<font color = 'red'> we need to take either knowledge_level_high or low so will be taking knowledge_level_high"
   ]
  },
  {
   "cell_type": "code",
   "execution_count": 34,
   "id": "e8877837",
   "metadata": {},
   "outputs": [],
   "source": [
    "#splitting x and y by train_test_split\n",
    "\n",
    "from sklearn.model_selection import train_test_split\n",
    "\n",
    "xtrain, xtest, ytrain, ytest = train_test_split(x , y['knowledge_level_High'] , test_size= 0.2 , random_state= 0)"
   ]
  },
  {
   "cell_type": "code",
   "execution_count": null,
   "id": "7af5d3d7",
   "metadata": {},
   "outputs": [],
   "source": []
  },
  {
   "cell_type": "markdown",
   "id": "5ac9e28e",
   "metadata": {},
   "source": [
    "## Scaling Data (Feature Scaling)"
   ]
  },
  {
   "cell_type": "code",
   "execution_count": 36,
   "id": "9f2e1b36",
   "metadata": {},
   "outputs": [],
   "source": [
    "from sklearn.preprocessing import StandardScaler\n",
    "\n",
    "sc_x = StandardScaler()\n",
    "\n",
    "xtrain = sc_x.fit_transform(xtrain)\n",
    "xtest = sc_x.transform(xtest) "
   ]
  },
  {
   "cell_type": "markdown",
   "id": "2c6ab183",
   "metadata": {},
   "source": [
    "# <font color = \"green\"><b> GausianNB </font>"
   ]
  },
  {
   "cell_type": "markdown",
   "id": "6d52196f",
   "metadata": {},
   "source": [
    "### Traning Model"
   ]
  },
  {
   "cell_type": "code",
   "execution_count": 38,
   "id": "79ab99cc",
   "metadata": {},
   "outputs": [
    {
     "data": {
      "text/plain": [
       "GaussianNB()"
      ]
     },
     "execution_count": 38,
     "metadata": {},
     "output_type": "execute_result"
    }
   ],
   "source": [
    "from sklearn.naive_bayes import GaussianNB\n",
    "\n",
    "nvb = GaussianNB()\n",
    "nvb.fit(xtrain,ytrain)"
   ]
  },
  {
   "cell_type": "markdown",
   "id": "1bfca883",
   "metadata": {},
   "source": [
    "### Predicting test_input"
   ]
  },
  {
   "cell_type": "code",
   "execution_count": 40,
   "id": "a1358040",
   "metadata": {},
   "outputs": [
    {
     "data": {
      "text/plain": [
       "array([0, 0, 1, 1, 0, 1, 0, 1, 1, 0, 1, 0, 0, 0, 1, 1, 0, 1, 0, 1, 0, 0,\n",
       "       1, 1, 0, 0, 1, 1, 0, 1], dtype=uint8)"
      ]
     },
     "execution_count": 40,
     "metadata": {},
     "output_type": "execute_result"
    }
   ],
   "source": [
    "y_predict = nvb.predict(xtest)\n",
    "y_predict"
   ]
  },
  {
   "cell_type": "markdown",
   "id": "d40dc6be",
   "metadata": {},
   "source": [
    "### Results"
   ]
  },
  {
   "cell_type": "code",
   "execution_count": 42,
   "id": "6f649aad",
   "metadata": {},
   "outputs": [],
   "source": [
    "from sklearn.metrics import confusion_matrix\n",
    "\n",
    "cm = confusion_matrix(ytest,y_predict)"
   ]
  },
  {
   "cell_type": "code",
   "execution_count": 43,
   "id": "c9a9ad94",
   "metadata": {},
   "outputs": [
    {
     "data": {
      "text/plain": [
       "array([[15,  0],\n",
       "       [ 0, 15]], dtype=int64)"
      ]
     },
     "execution_count": 43,
     "metadata": {},
     "output_type": "execute_result"
    }
   ],
   "source": [
    "cm"
   ]
  },
  {
   "cell_type": "markdown",
   "id": "1709c4bd",
   "metadata": {},
   "source": [
    " ### Accuracy"
   ]
  },
  {
   "cell_type": "code",
   "execution_count": 45,
   "id": "83f37dd0",
   "metadata": {},
   "outputs": [
    {
     "data": {
      "text/plain": [
       "1.0"
      ]
     },
     "execution_count": 45,
     "metadata": {},
     "output_type": "execute_result"
    }
   ],
   "source": [
    "from sklearn.metrics import accuracy_score\n",
    "accuracy_score(ytest,y_predict)"
   ]
  },
  {
   "cell_type": "markdown",
   "id": "9aecb97d",
   "metadata": {},
   "source": [
    "# Visualising the model performance "
   ]
  },
  {
   "cell_type": "markdown",
   "id": "a772960d",
   "metadata": {},
   "source": [
    "<font color = 'red'> will be also checking the hyper plane that our model is building up </font>"
   ]
  },
  {
   "cell_type": "code",
   "execution_count": 57,
   "id": "a692c11a",
   "metadata": {},
   "outputs": [
    {
     "name": "stderr",
     "output_type": "stream",
     "text": [
      "*c* argument looks like a single numeric RGB or RGBA sequence, which should be avoided as value-mapping will have precedence in case its length matches with *x* & *y*.  Please use the *color* keyword-argument or provide a 2D array with a single row if you intend to specify the same RGB or RGBA value for all points.\n",
      "*c* argument looks like a single numeric RGB or RGBA sequence, which should be avoided as value-mapping will have precedence in case its length matches with *x* & *y*.  Please use the *color* keyword-argument or provide a 2D array with a single row if you intend to specify the same RGB or RGBA value for all points.\n"
     ]
    },
    {
     "data": {
      "image/png": "[encoded data removed]",
      "text/plain": [
       "<Figure size 432x288 with 1 Axes>"
      ]
     },
     "metadata": {
      "needs_background": "light"
     },
     "output_type": "display_data"
    }
   ],
   "source": [
    "# to diffrentitae the class will be using matpotlib and meshgrid to plot the hyperplane\n",
    "\n",
    "from matplotlib.colors import ListedColormap\n",
    "\n",
    "xset, yset, = xtest, ytest\n",
    "\n",
    "#meshgrade return co-ordiante matrix from a co-ordinate vectrors\n",
    "#basically use to create rectanglular grid outof 2 given 1-d array\n",
    "#so will be findin out co-ordinate\n",
    "\n",
    "x1, x2 =  np.meshgrid(np.arange(start = xset[: , 0].min()-1 , stop = xset[: , 0].max()+1, step =0.01),\n",
    "                      np.arange(start = xset[: , 1].min()-1 , stop = xset[: , 1].max()+1, step =0.01))\n",
    "            \n",
    "# repetation_time will go to - x1\n",
    "# study_time will go to - x2\n",
    "\n",
    "# we will use contor function to draw lines and fill the counter , so that we can say which region belongs to which class\n",
    "\n",
    "plt.contourf(x1,x2, nvb.predict(np.array([ x1.ravel(), x2.ravel() ]).T).reshape(x1.shape) , alpha = 0.75 ,\n",
    "             cmap = ListedColormap(('white','grey')))\n",
    "             \n",
    "#setting limits\n",
    "plt.xlim(x1.min(),x1.max())\n",
    "plt.ylim(x2.min(),x2.max())\n",
    "\n",
    "\n",
    "#now we have to plot all the datapoints\n",
    "\n",
    "for i,j in enumerate( np.unique(yset)):\n",
    "    plt.scatter (xset[yset == j , 0 ], xset[yset == j,1],\n",
    "                c = ListedColormap(('red', 'green'))(i) , label = j)\n",
    "    \n",
    "plt.xlabel('r time')\n",
    "plt.ylabel('s time')\n",
    "plt.legend()\n",
    "plt.show()"
   ]
  },
  {
   "cell_type": "code",
   "execution_count": null,
   "id": "ce3b7024",
   "metadata": {},
   "outputs": [],
   "source": []
  }
 ],
 "metadata": {
  "kernelspec": {
   "display_name": "Python 3 (ipykernel)",
   "language": "python",
   "name": "python3"
  },
  "language_info": {
   "codemirror_mode": {
    "name": "ipython",
    "version": 3
   },
   "file_extension": ".py",
   "mimetype": "text/x-python",
   "name": "python",
   "nbconvert_exporter": "python",
   "pygments_lexer": "ipython3",
   "version": "3.10.2"
  }
 },
 "nbformat": 4,
 "nbformat_minor": 5
}
