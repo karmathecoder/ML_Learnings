{
 "cells": [
  {
   "cell_type": "markdown",
   "id": "e0523e4c",
   "metadata": {},
   "source": [
    "# Intro\n",
    "it is advance form of LinerRegression(LR)\n",
    "All parts is same as LR we just need to work on only few parts i.e\n",
    "\n",
    "in PLR we will introduce dimentions to input\n",
    "so will do same required input changes"
   ]
  },
  {
   "cell_type": "markdown",
   "id": "32090fb5",
   "metadata": {},
   "source": [
    "<font color = \"red\"> Here Regular Code STARTS</font> "
   ]
  },
  {
   "cell_type": "markdown",
   "id": "47fa2843",
   "metadata": {},
   "source": [
    "## Importing Liabraries\n"
   ]
  },
  {
   "cell_type": "code",
   "execution_count": 1,
   "id": "0325c90d",
   "metadata": {},
   "outputs": [],
   "source": [
    "import pandas as pd\n",
    "import numpy as np\n",
    "import matplotlib.pyplot as plt\n",
    "import matplotlib.axes as ax"
   ]
  },
  {
   "cell_type": "markdown",
   "id": "8176e003",
   "metadata": {},
   "source": [
    "## Loading Data"
   ]
  },
  {
   "cell_type": "code",
   "execution_count": 2,
   "id": "510eb473",
   "metadata": {},
   "outputs": [],
   "source": [
    "data = pd.read_csv(\"data_for_lr.csv\")"
   ]
  },
  {
   "cell_type": "code",
   "execution_count": 3,
   "id": "cd7cdbf7",
   "metadata": {},
   "outputs": [
    {
     "data": {
      "text/html": [
       "<div>\n",
       "<style scoped>\n",
       "    .dataframe tbody tr th:only-of-type {\n",
       "        vertical-align: middle;\n",
       "    }\n",
       "\n",
       "    .dataframe tbody tr th {\n",
       "        vertical-align: top;\n",
       "    }\n",
       "\n",
       "    .dataframe thead th {\n",
       "        text-align: right;\n",
       "    }\n",
       "</style>\n",
       "<table border=\"1\" class=\"dataframe\">\n",
       "  <thead>\n",
       "    <tr style=\"text-align: right;\">\n",
       "      <th></th>\n",
       "      <th>x</th>\n",
       "      <th>y</th>\n",
       "    </tr>\n",
       "  </thead>\n",
       "  <tbody>\n",
       "    <tr>\n",
       "      <th>0</th>\n",
       "      <td>24.0</td>\n",
       "      <td>21.549452</td>\n",
       "    </tr>\n",
       "    <tr>\n",
       "      <th>1</th>\n",
       "      <td>50.0</td>\n",
       "      <td>47.464463</td>\n",
       "    </tr>\n",
       "    <tr>\n",
       "      <th>2</th>\n",
       "      <td>15.0</td>\n",
       "      <td>17.218656</td>\n",
       "    </tr>\n",
       "    <tr>\n",
       "      <th>3</th>\n",
       "      <td>38.0</td>\n",
       "      <td>36.586398</td>\n",
       "    </tr>\n",
       "    <tr>\n",
       "      <th>4</th>\n",
       "      <td>87.0</td>\n",
       "      <td>87.288984</td>\n",
       "    </tr>\n",
       "    <tr>\n",
       "      <th>5</th>\n",
       "      <td>36.0</td>\n",
       "      <td>32.463875</td>\n",
       "    </tr>\n",
       "    <tr>\n",
       "      <th>6</th>\n",
       "      <td>12.0</td>\n",
       "      <td>10.780897</td>\n",
       "    </tr>\n",
       "    <tr>\n",
       "      <th>7</th>\n",
       "      <td>81.0</td>\n",
       "      <td>80.763399</td>\n",
       "    </tr>\n",
       "    <tr>\n",
       "      <th>8</th>\n",
       "      <td>25.0</td>\n",
       "      <td>24.612151</td>\n",
       "    </tr>\n",
       "    <tr>\n",
       "      <th>9</th>\n",
       "      <td>5.0</td>\n",
       "      <td>6.963319</td>\n",
       "    </tr>\n",
       "  </tbody>\n",
       "</table>\n",
       "</div>"
      ],
      "text/plain": [
       "      x          y\n",
       "0  24.0  21.549452\n",
       "1  50.0  47.464463\n",
       "2  15.0  17.218656\n",
       "3  38.0  36.586398\n",
       "4  87.0  87.288984\n",
       "5  36.0  32.463875\n",
       "6  12.0  10.780897\n",
       "7  81.0  80.763399\n",
       "8  25.0  24.612151\n",
       "9   5.0   6.963319"
      ]
     },
     "execution_count": 3,
     "metadata": {},
     "output_type": "execute_result"
    }
   ],
   "source": [
    "data.head(10)"
   ]
  },
  {
   "cell_type": "code",
   "execution_count": 4,
   "id": "36a5d202",
   "metadata": {},
   "outputs": [
    {
     "name": "stdout",
     "output_type": "stream",
     "text": [
      "<class 'pandas.core.frame.DataFrame'>\n",
      "RangeIndex: 700 entries, 0 to 699\n",
      "Data columns (total 2 columns):\n",
      " #   Column  Non-Null Count  Dtype  \n",
      "---  ------  --------------  -----  \n",
      " 0   x       700 non-null    float64\n",
      " 1   y       699 non-null    float64\n",
      "dtypes: float64(2)\n",
      "memory usage: 11.1 KB\n"
     ]
    }
   ],
   "source": [
    "data.info()"
   ]
  },
  {
   "cell_type": "markdown",
   "id": "11c06137",
   "metadata": {},
   "source": [
    "### Data Preprocessing\n",
    "## \n",
    "##### As we have x - 700 and y - 699 means we have 1 null value"
   ]
  },
  {
   "cell_type": "code",
   "execution_count": 5,
   "id": "c42c641b",
   "metadata": {},
   "outputs": [],
   "source": [
    "data = data.dropna(axis = 0)"
   ]
  },
  {
   "cell_type": "code",
   "execution_count": 6,
   "id": "3061090d",
   "metadata": {},
   "outputs": [
    {
     "data": {
      "text/plain": [
       "(699, 2)"
      ]
     },
     "execution_count": 6,
     "metadata": {},
     "output_type": "execute_result"
    }
   ],
   "source": [
    "data.shape"
   ]
  },
  {
   "cell_type": "code",
   "execution_count": 7,
   "id": "0156f794",
   "metadata": {},
   "outputs": [
    {
     "name": "stdout",
     "output_type": "stream",
     "text": [
      "<class 'pandas.core.frame.DataFrame'>\n",
      "Int64Index: 699 entries, 0 to 699\n",
      "Data columns (total 2 columns):\n",
      " #   Column  Non-Null Count  Dtype  \n",
      "---  ------  --------------  -----  \n",
      " 0   x       699 non-null    float64\n",
      " 1   y       699 non-null    float64\n",
      "dtypes: float64(2)\n",
      "memory usage: 16.4 KB\n"
     ]
    }
   ],
   "source": [
    "data.info()"
   ]
  },
  {
   "cell_type": "markdown",
   "id": "749bc39c",
   "metadata": {},
   "source": [
    "## Splitting Data"
   ]
  },
  {
   "cell_type": "code",
   "execution_count": 8,
   "id": "e1b8d68e",
   "metadata": {},
   "outputs": [],
   "source": [
    "#manual splitting\n",
    "\n",
    "#reshaping to make them 2d array earlier it was (500,) seems 1D then making (500,1) 2d array\n",
    "train_input = np.array(data.x[0:500]).reshape(500,1)\n",
    "train_output = np.array(data.y[0:500]).reshape(500,1)\n",
    "test_input = np.array(data.x[500:]).reshape(199,1)\n",
    "test_output = np.array(data.y[500:]).reshape(199,1)"
   ]
  },
  {
   "cell_type": "code",
   "execution_count": 9,
   "id": "76ac90bf",
   "metadata": {},
   "outputs": [
    {
     "name": "stdout",
     "output_type": "stream",
     "text": [
      "(500, 1)\n",
      "(500, 1)\n",
      "(199, 1)\n",
      "(199, 1)\n"
     ]
    }
   ],
   "source": [
    "#checking shape\n",
    "print(train_input.shape)\n",
    "print(train_output.shape)\n",
    "print(test_input.shape)\n",
    "print(test_output.shape)"
   ]
  },
  {
   "cell_type": "markdown",
   "id": "86377666",
   "metadata": {},
   "source": [
    "<font color = \"red\"> Here Regular Code ENDS</font> "
   ]
  },
  {
   "cell_type": "markdown",
   "id": "10da0790",
   "metadata": {},
   "source": [
    "# Polynomial_LinearRegression (Sklearn)"
   ]
  },
  {
   "cell_type": "markdown",
   "id": "170baf22",
   "metadata": {},
   "source": [
    "## Traning Model"
   ]
  },
  {
   "cell_type": "code",
   "execution_count": 11,
   "id": "5bafdd9b",
   "metadata": {},
   "outputs": [],
   "source": [
    "from sklearn.linear_model import LinearRegression\n",
    "\n",
    "#importing this for processing the dimentional imput before feeding to LR\n",
    "from sklearn.preprocessing import PolynomialFeatures"
   ]
  },
  {
   "cell_type": "code",
   "execution_count": 17,
   "id": "05a65172",
   "metadata": {},
   "outputs": [
    {
     "data": {
      "text/plain": [
       "PolynomialFeatures()"
      ]
     },
     "execution_count": 17,
     "metadata": {},
     "output_type": "execute_result"
    }
   ],
   "source": [
    "# degree = 2 is for (a0 + a1 X1^1 + a2 X1^2) so degree=2\n",
    "poly_regressor = PolynomialFeatures(degree = 2)\n",
    "\n",
    "train_input_poly = poly_regressor.fit_transform(train_input)\n",
    "\n",
    "#fiting training input output in polynomial\n",
    "poly_regressor.fit(train_input,train_output)"
   ]
  },
  {
   "cell_type": "code",
   "execution_count": 19,
   "id": "652dfc24",
   "metadata": {},
   "outputs": [
    {
     "data": {
      "text/plain": [
       "(500, 3)"
      ]
     },
     "execution_count": 19,
     "metadata": {},
     "output_type": "execute_result"
    }
   ],
   "source": [
    "train_input_poly.shape\n",
    "# 3 is because of 3 x input X1^0 , X1^1 , X1^2"
   ]
  },
  {
   "cell_type": "markdown",
   "id": "846ac3f6",
   "metadata": {},
   "source": [
    "#### Fitiing this poly_regressor to LR as our poly-inputs are ready"
   ]
  },
  {
   "cell_type": "code",
   "execution_count": 20,
   "id": "b0d0e0d4",
   "metadata": {},
   "outputs": [
    {
     "data": {
      "text/plain": [
       "LinearRegression()"
      ]
     },
     "execution_count": 20,
     "metadata": {},
     "output_type": "execute_result"
    }
   ],
   "source": [
    "linear_regressor = LinearRegression()\n",
    "\n",
    "linear_regressor.fit(train_input_poly,train_output)"
   ]
  },
  {
   "cell_type": "markdown",
   "id": "bf95384c",
   "metadata": {},
   "source": [
    "## Predicting test_input"
   ]
  },
  {
   "cell_type": "code",
   "execution_count": 22,
   "id": "c23935f5",
   "metadata": {},
   "outputs": [],
   "source": [
    "pridicted_values = linear_regressor.predict(poly_regressor.fit_transform(test_input))"
   ]
  },
  {
   "cell_type": "markdown",
   "id": "0c9c662b",
   "metadata": {},
   "source": [
    "<font color = \"red\"> Here Regular Code STARTS</font> "
   ]
  },
  {
   "cell_type": "code",
   "execution_count": 26,
   "id": "19547f4f",
   "metadata": {},
   "outputs": [
    {
     "data": {
      "text/plain": [
       "array([[  7.68202459],\n",
       "       [ 61.01858089],\n",
       "       [ 53.60562216],\n",
       "       [ 94.47728801],\n",
       "       [ 27.9645947 ],\n",
       "       [ 62.55662585],\n",
       "       [  1.40625441],\n",
       "       [101.7003412 ],\n",
       "       [ 13.84973988],\n",
       "       [ 28.99769315],\n",
       "       [ 99.04315693],\n",
       "       [ 15.56135514],\n",
       "       [ 24.63528393],\n",
       "       [ 53.98393374],\n",
       "       [ 42.91449728],\n",
       "       [ 74.29662112],\n",
       "       [ 91.17012883],\n",
       "       [ 49.42440876],\n",
       "       [ 82.47683519],\n",
       "       [ 56.15303953],\n",
       "       [ 37.17063131],\n",
       "       [ 46.36928662],\n",
       "       [ 97.02383456],\n",
       "       [ 40.83182104],\n",
       "       [ 24.08498313],\n",
       "       [ 41.14386358],\n",
       "       [ 21.97388066],\n",
       "       [100.740897  ],\n",
       "       [ 61.19971596],\n",
       "       [ 74.39517002],\n",
       "       [ 69.04377173],\n",
       "       [ 56.68718792],\n",
       "       [  5.86039171],\n",
       "       [ 55.72021356],\n",
       "       [ 79.22021816],\n",
       "       [ 86.30177517],\n",
       "       [ 25.26971886],\n",
       "       [ 36.33294447],\n",
       "       [ 27.65574228],\n",
       "       [ 94.79690531],\n",
       "       [ 58.67366671],\n",
       "       [ 56.15934471],\n",
       "       [ 18.40919388],\n",
       "       [ 86.26936988],\n",
       "       [ 26.59436195],\n",
       "       [  8.45252016],\n",
       "       [ 56.18131518],\n",
       "       [ 27.65452669],\n",
       "       [ 20.87391785],\n",
       "       [ 77.83354439],\n",
       "       [ 50.01787825],\n",
       "       [  9.29085626],\n",
       "       [ 75.0284725 ],\n",
       "       [ 38.3037698 ],\n",
       "       [ 44.70786405],\n",
       "       [ 22.51016575],\n",
       "       [102.4959452 ],\n",
       "       [ 86.76845244],\n",
       "       [ 13.89748578],\n",
       "       [ 24.81824269],\n",
       "       [ 33.94224862],\n",
       "       [ 92.26970059],\n",
       "       [ 68.73365081],\n",
       "       [ 47.38516883],\n",
       "       [ 32.37576914],\n",
       "       [ 87.67388681],\n",
       "       [ 54.57648371],\n",
       "       [ 18.06450222],\n",
       "       [  7.89653984],\n",
       "       [ 35.00341078],\n",
       "       [ 36.72823317],\n",
       "       [ 65.84975426],\n",
       "       [ 89.59295492],\n",
       "       [ 61.69026202],\n",
       "       [ 11.60499315],\n",
       "       [ 71.0826803 ],\n",
       "       [ 43.71901164],\n",
       "       [ 41.57421008],\n",
       "       [ 74.25552425],\n",
       "       [ 66.28310437],\n",
       "       [ 36.62438077],\n",
       "       [ 10.32374866],\n",
       "       [  7.15645766],\n",
       "       [ 67.88603132],\n",
       "       [101.1097591 ],\n",
       "       [ 98.6132033 ],\n",
       "       [ 50.19083844],\n",
       "       [ 27.83896261],\n",
       "       [ 55.9249564 ],\n",
       "       [ 76.47340872],\n",
       "       [ 92.05756378],\n",
       "       [ 27.35245439],\n",
       "       [ 55.32083476],\n",
       "       [ 41.39990349],\n",
       "       [ 93.59057024],\n",
       "       [  5.29705403],\n",
       "       [ 21.01429422],\n",
       "       [  2.26705945],\n",
       "       [ -0.1218605 ],\n",
       "       [ 66.49546208],\n",
       "       [ 73.83637687],\n",
       "       [ 42.10140878],\n",
       "       [ 77.35135732],\n",
       "       [ 41.02251779],\n",
       "       [ 14.75305272],\n",
       "       [ 83.28199022],\n",
       "       [ 89.93374342],\n",
       "       [  2.28657169],\n",
       "       [ 55.61421297],\n",
       "       [ 62.15313408],\n",
       "       [ 89.55803528],\n",
       "       [ 94.00291863],\n",
       "       [ 26.78023848],\n",
       "       [ -0.76453763],\n",
       "       [  0.282866  ],\n",
       "       [ 44.26800515],\n",
       "       [ 19.85174138],\n",
       "       [ 47.15960005],\n",
       "       [  8.35936657],\n",
       "       [ 92.08157084],\n",
       "       [ 41.88734051],\n",
       "       [ 30.5413129 ],\n",
       "       [ 46.87654473],\n",
       "       [ 96.35659485],\n",
       "       [ 17.9170699 ],\n",
       "       [ 71.67949917],\n",
       "       [ 32.64997554],\n",
       "       [ 39.34482965],\n",
       "       [ 17.03401999],\n",
       "       [ 52.87524074],\n",
       "       [ 15.85414849],\n",
       "       [108.8716183 ],\n",
       "       [ 49.30477253],\n",
       "       [ 89.4749477 ],\n",
       "       [ 63.67348242],\n",
       "       [ 83.78410946],\n",
       "       [ 73.51136922],\n",
       "       [ 46.80297244],\n",
       "       [  5.8099468 ],\n",
       "       [ 85.23027975],\n",
       "       [ 10.58213964],\n",
       "       [ 21.37698317],\n",
       "       [ 46.0537745 ],\n",
       "       [ 95.2389253 ],\n",
       "       [ 94.15149206],\n",
       "       [ 54.54868046],\n",
       "       [ 87.36260449],\n",
       "       [ 88.47741598],\n",
       "       [ 84.48045678],\n",
       "       [ 48.79647071],\n",
       "       [ 10.76675683],\n",
       "       [ 30.48882921],\n",
       "       [ 29.76846185],\n",
       "       [ 13.51574749],\n",
       "       [ 86.12955884],\n",
       "       [ 43.30022747],\n",
       "       [ 51.92110232],\n",
       "       [ 16.49185287],\n",
       "       [  7.99807343],\n",
       "       [ 97.66689567],\n",
       "       [ 89.80545367],\n",
       "       [ 38.07166567],\n",
       "       [ 60.27852322],\n",
       "       [  6.70919576],\n",
       "       [ 18.35488924],\n",
       "       [ 56.37058203],\n",
       "       [ 62.80064204],\n",
       "       [ 41.25155632],\n",
       "       [ 19.42637541],\n",
       "       [ 82.88935804],\n",
       "       [ 63.61364981],\n",
       "       [ 11.29627199],\n",
       "       [ 60.02274882],\n",
       "       [ 72.60339326],\n",
       "       [ 11.87964573],\n",
       "       [100.7012737 ],\n",
       "       [ 45.12420809],\n",
       "       [ 14.81106804],\n",
       "       [ 48.09368034],\n",
       "       [ 42.29145672],\n",
       "       [ 52.73389794],\n",
       "       [ 36.72396986],\n",
       "       [ 28.64535198],\n",
       "       [ 62.16675273],\n",
       "       [ 95.58459518],\n",
       "       [ 66.04325304],\n",
       "       [ 99.9566225 ],\n",
       "       [ 46.14941984],\n",
       "       [ 89.13754963],\n",
       "       [ 69.71787806],\n",
       "       [ 12.31736648],\n",
       "       [ 78.20296268],\n",
       "       [ 71.30995371],\n",
       "       [ 81.45544709],\n",
       "       [ 58.59500642],\n",
       "       [ 94.62509374],\n",
       "       [ 88.60376995],\n",
       "       [ 63.64868529],\n",
       "       [ 94.9752655 ]])"
      ]
     },
     "execution_count": 26,
     "metadata": {},
     "output_type": "execute_result"
    }
   ],
   "source": [
    "## orignal values test_output\n",
    "test_output"
   ]
  },
  {
   "cell_type": "code",
   "execution_count": 24,
   "id": "0f491aae",
   "metadata": {},
   "outputs": [
    {
     "data": {
      "text/plain": [
       "array([[ 4.46957573],\n",
       "       [60.99608394],\n",
       "       [47.00554813],\n",
       "       [97.51828372],\n",
       "       [29.89058614],\n",
       "       [62.98705348],\n",
       "       [-0.65061901],\n",
       "       [99.47374049],\n",
       "       [17.72593351],\n",
       "       [29.89058614],\n",
       "       [97.51828372],\n",
       "       [15.69177278],\n",
       "       [21.78849616],\n",
       "       [55.01165768],\n",
       "       [42.99097571],\n",
       "       [74.89255892],\n",
       "       [90.65906809],\n",
       "       [46.00262488],\n",
       "       [84.76102421],\n",
       "       [55.01165768],\n",
       "       [35.94699773],\n",
       "       [49.00995493],\n",
       "       [93.60161134],\n",
       "       [42.99097571],\n",
       "       [21.78849616],\n",
       "       [36.95472001],\n",
       "       [23.81689807],\n",
       "       [94.58149929],\n",
       "       [60.99608394],\n",
       "       [74.89255892],\n",
       "       [67.95607903],\n",
       "       [58.00603037],\n",
       "       [ 4.46957573],\n",
       "       [53.0130097 ],\n",
       "       [79.83279034],\n",
       "       [82.79117037],\n",
       "       [24.83037917],\n",
       "       [33.93011348],\n",
       "       [25.84338036],\n",
       "       [89.67726053],\n",
       "       [59.99987932],\n",
       "       [49.00995493],\n",
       "       [18.74229403],\n",
       "       [91.64039574],\n",
       "       [28.87950455],\n",
       "       [ 7.53593375],\n",
       "       [57.00838604],\n",
       "       [28.87950455],\n",
       "       [18.74229403],\n",
       "       [80.81939692],\n",
       "       [50.01143848],\n",
       "       [14.67397256],\n",
       "       [69.94032994],\n",
       "       [38.96872485],\n",
       "       [42.99097571],\n",
       "       [20.77357535],\n",
       "       [97.51828372],\n",
       "       [85.74523128],\n",
       "       [15.69177278],\n",
       "       [24.83037917],\n",
       "       [30.90118783],\n",
       "       [92.62124349],\n",
       "       [66.96323373],\n",
       "       [49.00995493],\n",
       "       [24.83037917],\n",
       "       [87.71220571],\n",
       "       [54.01257364],\n",
       "       [20.77357535],\n",
       "       [ 7.53593375],\n",
       "       [31.91130961],\n",
       "       [34.93879556],\n",
       "       [66.96323373],\n",
       "       [89.67726053],\n",
       "       [59.00319479],\n",
       "       [14.67397256],\n",
       "       [66.96323373],\n",
       "       [41.98613285],\n",
       "       [43.99533867],\n",
       "       [76.8700912 ],\n",
       "       [67.95607903],\n",
       "       [35.94699773],\n",
       "       [10.59797265],\n",
       "       [ 9.57777292],\n",
       "       [64.97610341],\n",
       "       [97.51828372],\n",
       "       [97.51828372],\n",
       "       [49.00995493],\n",
       "       [30.90118783],\n",
       "       [56.01026181],\n",
       "       [69.94032994],\n",
       "       [90.65906809],\n",
       "       [24.83037917],\n",
       "       [54.01257364],\n",
       "       [38.96872485],\n",
       "       [90.65906809],\n",
       "       [ 2.42293754],\n",
       "       [21.78849616],\n",
       "       [ 1.39889859],\n",
       "       [ 1.39889859],\n",
       "       [64.97610341],\n",
       "       [70.93173554],\n",
       "       [41.98613285],\n",
       "       [75.88156501],\n",
       "       [42.99097571],\n",
       "       [ 7.53593375],\n",
       "       [85.74523128],\n",
       "       [86.72895845],\n",
       "       [ 2.42293754],\n",
       "       [58.00603037],\n",
       "       [61.99180866],\n",
       "       [88.69497307],\n",
       "       [94.58149929],\n",
       "       [27.86794306],\n",
       "       [-0.65061901],\n",
       "       [ 0.37437974],\n",
       "       [49.00995493],\n",
       "       [20.77357535],\n",
       "       [46.00262488],\n",
       "       [10.59797265],\n",
       "       [88.69497307],\n",
       "       [36.95472001],\n",
       "       [28.87950455],\n",
       "       [43.99533867],\n",
       "       [95.56090733],\n",
       "       [15.69177278],\n",
       "       [73.90307293],\n",
       "       [34.93879556],\n",
       "       [41.98613285],\n",
       "       [15.69177278],\n",
       "       [56.01026181],\n",
       "       [17.72593351],\n",
       "       [99.47374049],\n",
       "       [54.01257364],\n",
       "       [91.64039574],\n",
       "       [62.98705348],\n",
       "       [80.81939692],\n",
       "       [72.91310704],\n",
       "       [48.00799148],\n",
       "       [ 0.37437974],\n",
       "       [84.76102421],\n",
       "       [13.65569244],\n",
       "       [24.83037917],\n",
       "       [44.99922172],\n",
       "       [97.51828372],\n",
       "       [96.53983548],\n",
       "       [58.00603037],\n",
       "       [92.62124349],\n",
       "       [87.71220571],\n",
       "       [88.69497307],\n",
       "       [47.00554813],\n",
       "       [ 5.49217497],\n",
       "       [33.93011348],\n",
       "       [29.89058614],\n",
       "       [15.69177278],\n",
       "       [85.74523128],\n",
       "       [39.97500742],\n",
       "       [52.01296586],\n",
       "       [14.67397256],\n",
       "       [ 3.44649659],\n",
       "       [94.58149929],\n",
       "       [98.49625206],\n",
       "       [34.93879556],\n",
       "       [58.00603037],\n",
       "       [ 9.57777292],\n",
       "       [15.69177278],\n",
       "       [53.0130097 ],\n",
       "       [58.00603037],\n",
       "       [41.98613285],\n",
       "       [23.81689807],\n",
       "       [83.77633724],\n",
       "       [63.98181839],\n",
       "       [11.61769248],\n",
       "       [60.99608394],\n",
       "       [74.89255892],\n",
       "       [14.67397256],\n",
       "       [99.47374049],\n",
       "       [42.99097571],\n",
       "       [12.63693241],\n",
       "       [48.00799148],\n",
       "       [44.99922172],\n",
       "       [52.01296586],\n",
       "       [33.93011348],\n",
       "       [29.89058614],\n",
       "       [64.97610341],\n",
       "       [99.47374049],\n",
       "       [66.96323373],\n",
       "       [98.49625206],\n",
       "       [44.99922172],\n",
       "       [86.72895845],\n",
       "       [72.91310704],\n",
       "       [ 8.55709329],\n",
       "       [80.81939692],\n",
       "       [71.92266124],\n",
       "       [80.81939692],\n",
       "       [58.00603037],\n",
       "       [92.62124349],\n",
       "       [81.8055236 ],\n",
       "       [65.96990852],\n",
       "       [96.53983548]])"
      ]
     },
     "execution_count": 24,
     "metadata": {},
     "output_type": "execute_result"
    }
   ],
   "source": [
    "# comparing \n",
    "#predected output\n",
    "pridicted_values"
   ]
  },
  {
   "cell_type": "markdown",
   "id": "941d37c9",
   "metadata": {},
   "source": [
    "<font color = \"red\"> we can clearly match the predicted_output with test_output, and we will find some conflict in matching and this showes that it is not 100% accurate</font> "
   ]
  },
  {
   "cell_type": "markdown",
   "id": "52f67036",
   "metadata": {},
   "source": [
    "### Calculating Performance (mean_squared_error)"
   ]
  },
  {
   "cell_type": "code",
   "execution_count": 27,
   "id": "1eea08d8",
   "metadata": {},
   "outputs": [],
   "source": [
    "from sklearn.metrics import mean_squared_error"
   ]
  },
  {
   "cell_type": "code",
   "execution_count": 29,
   "id": "bb0bedc9",
   "metadata": {},
   "outputs": [
    {
     "data": {
      "text/plain": [
       "8.063337564451185"
      ]
     },
     "execution_count": 29,
     "metadata": {},
     "output_type": "execute_result"
    }
   ],
   "source": [
    "error = mean_squared_error(test_output,pridicted_values)\n",
    "error"
   ]
  },
  {
   "cell_type": "markdown",
   "id": "b543ab4e",
   "metadata": {},
   "source": [
    "<font color = \"red\"> This error given value i.e. 8.03... is error percentage so our model is 92 percent accurate</font> "
   ]
  },
  {
   "cell_type": "markdown",
   "id": "52c15c52",
   "metadata": {},
   "source": [
    "## Visualizing the model"
   ]
  },
  {
   "cell_type": "markdown",
   "id": "b802c942",
   "metadata": {},
   "source": [
    "<font color = \"green\"> we will plot orignal PLR hypothesis vs Model Hypothesis Graph</font> "
   ]
  },
  {
   "cell_type": "code",
   "execution_count": 30,
   "id": "55ca00cc",
   "metadata": {},
   "outputs": [
    {
     "data": {
      "image/png": "[encoded data removed]",
      "text/plain": [
       "<Figure size 432x288 with 1 Axes>"
      ]
     },
     "metadata": {
      "needs_background": "light"
     },
     "output_type": "display_data"
    }
   ],
   "source": [
    "#orignal hypothesis\n",
    "plt.plot(test_input, test_output, '*', color = 'green')\n",
    "\n",
    "#model hypothesis\n",
    "plt.plot(test_input, pridicted_values, '+', color = 'red')\n",
    "\n",
    "plt.xlabel('input')\n",
    "plt.ylabel('output')\n",
    "\n",
    "plt.show()"
   ]
  },
  {
   "cell_type": "markdown",
   "id": "d49e1ec4",
   "metadata": {},
   "source": [
    "<font color = \"green\"> <B>HERE WE DONT SEE CURVE AS PARABOLA BECAUSE WE DONT HAD POLYNOMIAL-DATA</font> "
   ]
  },
  {
   "cell_type": "code",
   "execution_count": null,
   "id": "c5c7ae14",
   "metadata": {},
   "outputs": [],
   "source": []
  }
 ],
 "metadata": {
  "kernelspec": {
   "display_name": "Python 3 (ipykernel)",
   "language": "python",
   "name": "python3"
  },
  "language_info": {
   "codemirror_mode": {
    "name": "ipython",
    "version": 3
   },
   "file_extension": ".py",
   "mimetype": "text/x-python",
   "name": "python",
   "nbconvert_exporter": "python",
   "pygments_lexer": "ipython3",
   "version": "3.10.2"
  }
 },
 "nbformat": 4,
 "nbformat_minor": 5
}
